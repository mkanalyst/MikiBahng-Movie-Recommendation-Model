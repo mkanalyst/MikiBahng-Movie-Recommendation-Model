{
 "cells": [
  {
   "cell_type": "markdown",
   "id": "d9f52b99",
   "metadata": {},
   "source": [
    "## Movie Recommendation Model using Alternating Least Squares (ALS) ML algorithm"
   ]
  },
  {
   "cell_type": "markdown",
   "id": "216aee51",
   "metadata": {},
   "source": [
    "#### Requirements to run this notebook:\n",
    "- Spark environment / Spark DataFrame API\n",
    "- MovieLens dataset\n"
   ]
  },
  {
   "cell_type": "code",
   "execution_count": 1,
   "id": "7ca9f49c",
   "metadata": {},
   "outputs": [
    {
     "data": {
      "text/plain": [
       "'C:\\\\Spark\\\\spark-3.1.2-bin-hadoop3.2'"
      ]
     },
     "execution_count": 1,
     "metadata": {},
     "output_type": "execute_result"
    }
   ],
   "source": [
    "# check Spark environment\n",
    "\n",
    "import findspark\n",
    "findspark.init()\n",
    "findspark.find()"
   ]
  },
  {
   "cell_type": "code",
   "execution_count": 2,
   "id": "484c9ee6",
   "metadata": {},
   "outputs": [
    {
     "data": {
      "text/html": [
       "\n",
       "            <div>\n",
       "                <p><b>SparkSession - in-memory</b></p>\n",
       "                \n",
       "        <div>\n",
       "            <p><b>SparkContext</b></p>\n",
       "\n",
       "            <p><a href=\"http://host.docker.internal:4040\">Spark UI</a></p>\n",
       "\n",
       "            <dl>\n",
       "              <dt>Version</dt>\n",
       "                <dd><code>v3.1.2</code></dd>\n",
       "              <dt>Master</dt>\n",
       "                <dd><code>local[*]</code></dd>\n",
       "              <dt>AppName</dt>\n",
       "                <dd><code>movie-recommendation</code></dd>\n",
       "            </dl>\n",
       "        </div>\n",
       "        \n",
       "            </div>\n",
       "        "
      ],
      "text/plain": [
       "<pyspark.sql.session.SparkSession at 0x20fe2bac470>"
      ]
     },
     "execution_count": 2,
     "metadata": {},
     "output_type": "execute_result"
    }
   ],
   "source": [
    "# config Spark\n",
    "\n",
    "from pyspark.sql import SparkSession\n",
    "spark = SparkSession.builder.appName(\"movie-recommendation\").getOrCreate()\n",
    "spark"
   ]
  },
  {
   "cell_type": "markdown",
   "id": "eb7eda9c",
   "metadata": {},
   "source": [
    "#### Process Overview\n",
    "- Step 1: Load MovieLens dataset and perform exploratory data analysis\n",
    "- Step 2: Split movie ratings data into training and testing datasets\n",
    "- Step 3: Build ALS machine learning model to predict users movie ratings\n",
    "- Step 4: Predict movie ratings for all users using the ALS model \n",
    "- Step 5: Check performance metrics of the model\n",
    "- Step 6: Generate movie recommendations for existing users\n",
    "- Step 7: Generate movie recommendations for a new user"
   ]
  },
  {
   "cell_type": "markdown",
   "id": "30f3b915",
   "metadata": {},
   "source": [
    "### Step 1: Load MovieLens dataset and perform exploratory data analysis"
   ]
  },
  {
   "cell_type": "code",
   "execution_count": 3,
   "id": "49b01d26",
   "metadata": {},
   "outputs": [
    {
     "name": "stdout",
     "output_type": "stream",
     "text": [
      "+-------+--------------------+--------------------+\n",
      "|movieId|               title|              genres|\n",
      "+-------+--------------------+--------------------+\n",
      "|      1|    Toy Story (1995)|Adventure|Animati...|\n",
      "|      2|      Jumanji (1995)|Adventure|Childre...|\n",
      "|      3|Grumpier Old Men ...|      Comedy|Romance|\n",
      "|      4|Waiting to Exhale...|Comedy|Drama|Romance|\n",
      "|      5|Father of the Bri...|              Comedy|\n",
      "+-------+--------------------+--------------------+\n",
      "only showing top 5 rows\n",
      "\n"
     ]
    }
   ],
   "source": [
    "movies = spark.read.csv(\"data_folder/ml-latest-small_movies.csv\", header = True, inferSchema=True)\n",
    "ratings = spark.read.csv(\"data_folder/ml-latest-small_ratings.csv\", header = True, inferSchema=True)\n",
    "movies.show(5)"
   ]
  },
  {
   "cell_type": "code",
   "execution_count": 4,
   "id": "9ed3ce9c",
   "metadata": {},
   "outputs": [
    {
     "name": "stdout",
     "output_type": "stream",
     "text": [
      "+------+-------+------+----------+\n",
      "|userId|movieId|rating| timestamp|\n",
      "+------+-------+------+----------+\n",
      "|     1|     31|   2.5|1260759144|\n",
      "|     1|   1029|   3.0|1260759179|\n",
      "|     1|   1061|   3.0|1260759182|\n",
      "|     1|   1129|   2.0|1260759185|\n",
      "|     1|   1172|   4.0|1260759205|\n",
      "+------+-------+------+----------+\n",
      "only showing top 5 rows\n",
      "\n"
     ]
    }
   ],
   "source": [
    "ratings.show(5)"
   ]
  },
  {
   "cell_type": "code",
   "execution_count": 5,
   "id": "3f9c0997",
   "metadata": {},
   "outputs": [
    {
     "name": "stdout",
     "output_type": "stream",
     "text": [
      "+------+-------+------+\n",
      "|userId|movieId|rating|\n",
      "+------+-------+------+\n",
      "|     1|     31|   2.5|\n",
      "|     1|   1029|   3.0|\n",
      "|     1|   1061|   3.0|\n",
      "|     1|   1129|   2.0|\n",
      "|     1|   1172|   4.0|\n",
      "+------+-------+------+\n",
      "only showing top 5 rows\n",
      "\n"
     ]
    }
   ],
   "source": [
    "ratings = ratings.drop(\"timestamp\")\n",
    "ratings.show(5)"
   ]
  },
  {
   "cell_type": "code",
   "execution_count": 6,
   "id": "3a94b26b",
   "metadata": {},
   "outputs": [
    {
     "name": "stdout",
     "output_type": "stream",
     "text": [
      "root\n",
      " |-- userId: integer (nullable = true)\n",
      " |-- movieId: integer (nullable = true)\n",
      " |-- rating: double (nullable = true)\n",
      "\n"
     ]
    }
   ],
   "source": [
    "ratings.printSchema()"
   ]
  },
  {
   "cell_type": "code",
   "execution_count": 7,
   "id": "c463038b",
   "metadata": {},
   "outputs": [
    {
     "name": "stdout",
     "output_type": "stream",
     "text": [
      "+-------+------------------+------------------+------------------+\n",
      "|summary|            userId|           movieId|            rating|\n",
      "+-------+------------------+------------------+------------------+\n",
      "|  count|            100004|            100004|            100004|\n",
      "|   mean| 347.0113095476181|12548.664363425463| 3.543608255669773|\n",
      "| stddev|195.16383797819535|26369.198968815268|1.0580641091070326|\n",
      "|    min|                 1|                 1|               0.5|\n",
      "|    max|               671|            163949|               5.0|\n",
      "+-------+------------------+------------------+------------------+\n",
      "\n"
     ]
    }
   ],
   "source": [
    "ratings.describe().show()"
   ]
  },
  {
   "cell_type": "markdown",
   "id": "d96ce9e8",
   "metadata": {},
   "source": [
    "### Step 2: Split movie ratings data into training and testing datasets"
   ]
  },
  {
   "cell_type": "code",
   "execution_count": 8,
   "id": "4adde0c3",
   "metadata": {},
   "outputs": [],
   "source": [
    "train_df, test_df = ratings.randomSplit([0.8,0.2], seed = 1234)"
   ]
  },
  {
   "cell_type": "markdown",
   "id": "02fcfede",
   "metadata": {},
   "source": [
    "### Step 3: Build ALS machine learning model to predict users movie ratings"
   ]
  },
  {
   "cell_type": "code",
   "execution_count": 9,
   "id": "afefcff4",
   "metadata": {},
   "outputs": [],
   "source": [
    "# Load packages\n",
    "\n",
    "from pyspark.ml import Pipeline\n",
    "from pyspark.ml.evaluation import RegressionEvaluator\n",
    "from pyspark.ml.recommendation import ALS\n",
    "from pyspark.ml.tuning import CrossValidator, ParamGridBuilder"
   ]
  },
  {
   "cell_type": "code",
   "execution_count": 10,
   "id": "f51fe4ef",
   "metadata": {},
   "outputs": [],
   "source": [
    "# Create ALS model\n",
    "\n",
    "als = ALS(userCol=\"userId\", itemCol=\"movieId\", ratingCol=\"rating\", coldStartStrategy=\"drop\", nonnegative=True)"
   ]
  },
  {
   "cell_type": "code",
   "execution_count": 11,
   "id": "02099752",
   "metadata": {},
   "outputs": [],
   "source": [
    "# Create a pipleline\n",
    "\n",
    "pipeline = Pipeline(stages=[als])"
   ]
  },
  {
   "cell_type": "code",
   "execution_count": 12,
   "id": "ff462971",
   "metadata": {},
   "outputs": [],
   "source": [
    "# Create a param_grid of hyperparameters for tuning the model\n",
    "\n",
    "param_grid = ParamGridBuilder()\\\n",
    "                    .addGrid(als.rank, [20, 50])\\\n",
    "                    .addGrid(als.maxIter, [20])\\\n",
    "                    .addGrid(als.regParam, [0.1])\\\n",
    "                    .build()"
   ]
  },
  {
   "cell_type": "code",
   "execution_count": 13,
   "id": "2a6b7545",
   "metadata": {},
   "outputs": [],
   "source": [
    "# Set model evaluation metirc (evaluator) as RMSE\n",
    "\n",
    "evaluator = RegressionEvaluator(metricName=\"rmse\", labelCol=\"rating\", predictionCol=\"prediction\")"
   ]
  },
  {
   "cell_type": "code",
   "execution_count": 14,
   "id": "758982ae",
   "metadata": {},
   "outputs": [],
   "source": [
    "# Build the model with cross validation setup\n",
    "\n",
    "model_cv = CrossValidator(estimator=pipeline, estimatorParamMaps=param_grid,\n",
    "                          evaluator=evaluator, numFolds=3)"
   ]
  },
  {
   "cell_type": "code",
   "execution_count": 15,
   "id": "dcc02a7c",
   "metadata": {},
   "outputs": [],
   "source": [
    "# Fit the model with train_df\n",
    "\n",
    "model = model_cv.fit(train_df)"
   ]
  },
  {
   "cell_type": "code",
   "execution_count": 16,
   "id": "f6ab9b24",
   "metadata": {},
   "outputs": [
    {
     "name": "stdout",
     "output_type": "stream",
     "text": [
      "Best Model Hyperparameters:\n",
      " rank = 50\n",
      " MaxIter = 20\n",
      " RegParam = 0.1\n"
     ]
    }
   ],
   "source": [
    "# Check best model hyperparameters\n",
    "\n",
    "bestModel = model.bestModel.stages[0]\n",
    "\n",
    "bestModel_rank = bestModel.rank\n",
    "bestModel_MaxIter = bestModel._java_obj.parent().getMaxIter()\n",
    "bestModel_RegParam = bestModel._java_obj.parent().getRegParam()\n",
    "\n",
    "print(\"Best Model Hyperparameters:\")\n",
    "print(f\" rank = {bestModel_rank}\")\n",
    "print(f\" MaxIter = {bestModel_MaxIter}\")\n",
    "print(f\" RegParam = {bestModel_RegParam}\")"
   ]
  },
  {
   "cell_type": "markdown",
   "id": "090129e0",
   "metadata": {},
   "source": [
    "### Step 4: Predict movie ratings for all users using the ALS model"
   ]
  },
  {
   "cell_type": "code",
   "execution_count": 17,
   "id": "535ff58f",
   "metadata": {},
   "outputs": [
    {
     "name": "stdout",
     "output_type": "stream",
     "text": [
      "+------+-------+------+----------+\n",
      "|userId|movieId|rating|prediction|\n",
      "+------+-------+------+----------+\n",
      "|   232|    463|   4.0| 3.4205956|\n",
      "|    85|    471|   3.0| 2.8754594|\n",
      "|   452|    471|   3.0| 3.3117192|\n",
      "|   309|    471|   4.0|  4.235129|\n",
      "|   358|    471|   5.0| 3.8504686|\n",
      "+------+-------+------+----------+\n",
      "only showing top 5 rows\n",
      "\n"
     ]
    }
   ],
   "source": [
    "# Generate predictions for all user ratings using the best ALS model\n",
    "\n",
    "pred_df = bestModel.transform(test_df)\n",
    "\n",
    "pred_df.show(5)"
   ]
  },
  {
   "cell_type": "code",
   "execution_count": 18,
   "id": "9941149d",
   "metadata": {},
   "outputs": [
    {
     "name": "stdout",
     "output_type": "stream",
     "text": [
      "+------+-------+------+----------+\n",
      "|userId|movieId|rating|prediction|\n",
      "+------+-------+------+----------+\n",
      "|   671|   2804|   5.0|  3.865137|\n",
      "|   671|   1035|   5.0| 4.0637326|\n",
      "|   671|   3114|   5.0| 4.1227484|\n",
      "|   671|   2291|   5.0| 3.7513726|\n",
      "|   671|   4886|   5.0| 4.0184727|\n",
      "+------+-------+------+----------+\n",
      "\n"
     ]
    }
   ],
   "source": [
    "# Sort pred_df by \"userId\" and \"rating\" in descending order\n",
    "\n",
    "pred_df.sort(\"userId\",\"rating\", ascending=False).limit(5).show()"
   ]
  },
  {
   "cell_type": "markdown",
   "id": "3ecad30b",
   "metadata": {},
   "source": [
    "### Step 5: Check performance metrics of the model"
   ]
  },
  {
   "cell_type": "code",
   "execution_count": 19,
   "id": "6bafbc13",
   "metadata": {},
   "outputs": [
    {
     "name": "stdout",
     "output_type": "stream",
     "text": [
      "RMSE = 0.9011\n"
     ]
    }
   ],
   "source": [
    "# Check RMSE evaluation metric for the model predictions\n",
    "\n",
    "rmse = evaluator.evaluate(pred_df)\n",
    "print(f\"RMSE = {rmse:.4f}\")"
   ]
  },
  {
   "cell_type": "markdown",
   "id": "60989eff",
   "metadata": {},
   "source": [
    "### Step 6: Generate movie recommendations for existing users"
   ]
  },
  {
   "cell_type": "code",
   "execution_count": 20,
   "id": "4133f56c",
   "metadata": {},
   "outputs": [
    {
     "name": "stdout",
     "output_type": "stream",
     "text": [
      "+------+--------------------+\n",
      "|userId|     recommendations|\n",
      "+------+--------------------+\n",
      "|   471|[{54328, 4.633193...|\n",
      "|   463|[{83411, 4.550748...|\n",
      "|   496|[{108583, 5.09886...|\n",
      "|   148|[{83411, 5.209703...|\n",
      "|   540|[{3462, 5.0655766...|\n",
      "+------+--------------------+\n",
      "only showing top 5 rows\n",
      "\n"
     ]
    }
   ],
   "source": [
    "# Generate top 10 movie recommendations for all users\n",
    "\n",
    "recommendations_all_10 = bestModel.recommendForAllUsers(10)\n",
    "recommendations_all_10.show(5)"
   ]
  },
  {
   "cell_type": "code",
   "execution_count": 21,
   "id": "9a91191e",
   "metadata": {},
   "outputs": [
    {
     "name": "stdout",
     "output_type": "stream",
     "text": [
      "+------+--------------------+\n",
      "|userId|     recommendations|\n",
      "+------+--------------------+\n",
      "|     1|[{2563, 3.6745405...|\n",
      "+------+--------------------+\n",
      "\n"
     ]
    }
   ],
   "source": [
    "# Check top 10 movie recommendations for userID = 1\n",
    "\n",
    "recommendations_all_10.filter(recommendations_all_10.userId == 1).show()"
   ]
  },
  {
   "cell_type": "code",
   "execution_count": 22,
   "id": "e0d0c2d3",
   "metadata": {},
   "outputs": [
    {
     "name": "stdout",
     "output_type": "stream",
     "text": [
      "+------+-------+-----------+\n",
      "|userId|movieId|pred_rating|\n",
      "+------+-------+-----------+\n",
      "|     1|   2563|  3.6745405|\n",
      "|     1|   5114|  3.4208624|\n",
      "|     1|   2267|  3.4150085|\n",
      "|     1|    290|  3.4125144|\n",
      "|     1|    390|  3.3266888|\n",
      "|     1|   4226|  3.2958186|\n",
      "|     1| 116797|  3.2381463|\n",
      "|     1|   2304|  3.2291195|\n",
      "|     1|    735|  3.2255266|\n",
      "|     1|   3019|  3.2117074|\n",
      "+------+-------+-----------+\n",
      "\n"
     ]
    }
   ],
   "source": [
    "# Unpack the list of top 10 movieIds from recommendations column using <explode> function\n",
    "\n",
    "recommendations_user1 = recommendations_all_10.filter(recommendations_all_10.userId == 1)\n",
    "\n",
    "recommendations_user1.registerTempTable(\"ALS_recommendations_user1\") \n",
    " \n",
    "recommendations_user1_exploded = spark.sql(\"SELECT userId, recommendation.movieId AS movieId,\\\n",
    "                               recommendation.rating AS pred_rating \\\n",
    "                               FROM ALS_recommendations_user1 \\\n",
    "                               LATERAL VIEW explode(recommendations) exploded_table \\\n",
    "                               AS recommendation\")\n",
    "\n",
    "recommendations_user1_exploded.show() "
   ]
  },
  {
   "cell_type": "code",
   "execution_count": 23,
   "id": "cdcb2f79",
   "metadata": {},
   "outputs": [
    {
     "name": "stdout",
     "output_type": "stream",
     "text": [
      "+-------+------+-----------+--------------------+------------------+\n",
      "|movieId|userId|pred_rating|               title|            genres|\n",
      "+-------+------+-----------+--------------------+------------------+\n",
      "|   2563|     1|  3.6745405|Dangerous Beauty ...|             Drama|\n",
      "|   5114|     1|  3.4208624|Bad and the Beaut...|             Drama|\n",
      "|   2267|     1|  3.4150085|Mortal Thoughts (...|  Mystery|Thriller|\n",
      "|    290|     1|  3.4125144|Once Were Warrior...|       Crime|Drama|\n",
      "|    390|     1|  3.3266888|Faster Pussycat! ...|Action|Crime|Drama|\n",
      "|   4226|     1|  3.2958186|      Memento (2000)|  Mystery|Thriller|\n",
      "| 116797|     1|  3.2381463|The Imitation Gam...|Drama|Thriller|War|\n",
      "|   2304|     1|  3.2291195|Love Is the Devil...|             Drama|\n",
      "|    735|     1|  3.2255266|Cemetery Man (Del...|            Horror|\n",
      "|   3019|     1|  3.2117074|Drugstore Cowboy ...|       Crime|Drama|\n",
      "+-------+------+-----------+--------------------+------------------+\n",
      "\n"
     ]
    }
   ],
   "source": [
    "# Add movie info (movie title and genres) to top 10 movie recommendations data (with movieIds and ratings)\n",
    "\n",
    "recommendations_user1_exploded.join(movies, [\"movieId\"], \"left\").show()"
   ]
  },
  {
   "cell_type": "markdown",
   "id": "5045d14e",
   "metadata": {},
   "source": [
    "### Step 7: Generate movie recommendations for a new user"
   ]
  },
  {
   "cell_type": "markdown",
   "id": "3117fad0",
   "metadata": {},
   "source": [
    "#### Step 7.1: Add new user data to the existing ratings data"
   ]
  },
  {
   "cell_type": "code",
   "execution_count": 24,
   "id": "59175c3a",
   "metadata": {},
   "outputs": [
    {
     "name": "stdout",
     "output_type": "stream",
     "text": [
      "+------+-------+------+\n",
      "|userId|movieId|rating|\n",
      "+------+-------+------+\n",
      "|   672|      1|   5.0|\n",
      "|   672|    364|   5.0|\n",
      "|   672|   4306|   5.0|\n",
      "|   672|   6377|   5.0|\n",
      "+------+-------+------+\n",
      "\n"
     ]
    }
   ],
   "source": [
    "# Let's assume a new user's favorite movies are the following:\n",
    "# Toy Story (1995), Lion King, The (1994), Shrek (2001), Finding Nemo (2003) \n",
    "# which can be converted as a list of movieIds as below:\n",
    "new_user_movieIds = [1, 364, 4306, 6377]\n",
    "\n",
    "# set new userId as the highest userId value among the existing users + 1\n",
    "new_userId = ratings.agg({\"userId\": \"max\"}).first()[0] + 1\n",
    "rating_max = 5.0\n",
    "\n",
    "# Create a list of new user's movie rating data\n",
    "new_user_ratings = [(new_userId, movieId, rating_max) for movieId in new_user_movieIds]\n",
    "\n",
    "# ratings.columns = ['userId', 'movieId', 'rating']\n",
    "\n",
    "# Create a new dataframe that contains new user's ratings\n",
    "new_user_df = spark.createDataFrame(new_user_ratings, ratings.columns)\n",
    "new_user_df.show()"
   ]
  },
  {
   "cell_type": "code",
   "execution_count": 25,
   "id": "2788c379",
   "metadata": {},
   "outputs": [
    {
     "name": "stdout",
     "output_type": "stream",
     "text": [
      "+------+-------+------+\n",
      "|userId|movieId|rating|\n",
      "+------+-------+------+\n",
      "|   672|      1|   5.0|\n",
      "|   672|    364|   5.0|\n",
      "|   672|   4306|   5.0|\n",
      "|   672|   6377|   5.0|\n",
      "+------+-------+------+\n",
      "\n"
     ]
    }
   ],
   "source": [
    "# Add new_user_df to the existing ratings data\n",
    "\n",
    "ratings_all_new = ratings.union(new_user_df)\n",
    "\n",
    "ratings_all_new.filter(ratings_all_new.userId == new_userId).show()"
   ]
  },
  {
   "cell_type": "markdown",
   "id": "2d3b8931",
   "metadata": {},
   "source": [
    "#### Step 7.2: Split movie ratings data into training and testing datasets"
   ]
  },
  {
   "cell_type": "code",
   "execution_count": 26,
   "id": "2cbcdf2b",
   "metadata": {},
   "outputs": [],
   "source": [
    "train_df, test_df = ratings_all_new.randomSplit([0.8,0.2], seed = 1234)"
   ]
  },
  {
   "cell_type": "markdown",
   "id": "b7de7195",
   "metadata": {},
   "source": [
    "#### Step 7.3: Build ALS machine learning model to predict users movie ratings"
   ]
  },
  {
   "cell_type": "code",
   "execution_count": 27,
   "id": "4c36a718",
   "metadata": {},
   "outputs": [],
   "source": [
    "## Rebuild ALS model with updated ratings datasets that include new user's ratings\n",
    "\n",
    "als = ALS(userCol=\"userId\", itemCol=\"movieId\", ratingCol=\"rating\", coldStartStrategy=\"drop\", nonnegative=True)\n",
    "\n",
    "pipeline = Pipeline(stages=[als])\n",
    "\n",
    "# param_grid contains only the bestModel hyperparameters that were obtained above\n",
    "param_grid = ParamGridBuilder()\\\n",
    "                    .addGrid(als.rank, [bestModel_rank])\\\n",
    "                    .addGrid(als.maxIter, [bestModel_MaxIter])\\\n",
    "                    .addGrid(als.regParam, [bestModel_RegParam])\\\n",
    "                    .build()\n",
    "\n",
    "# Set model evaluation metirc (evaluator) as RMSE\n",
    "evaluator = RegressionEvaluator(metricName=\"rmse\", labelCol=\"rating\", predictionCol=\"prediction\")\n",
    "\n",
    "# Build the model with cross validation setup\n",
    "model_cv = CrossValidator(estimator=pipeline, estimatorParamMaps=param_grid,\n",
    "                          evaluator=evaluator, numFolds=3)\n",
    "\n",
    "# Fit the model with train_df\n",
    "model = model_cv.fit(train_df)"
   ]
  },
  {
   "cell_type": "markdown",
   "id": "1ba72f76",
   "metadata": {},
   "source": [
    "#### Step 7.4: Predict movie ratings for all users using the ALS model"
   ]
  },
  {
   "cell_type": "code",
   "execution_count": 28,
   "id": "3806af85",
   "metadata": {},
   "outputs": [
    {
     "name": "stdout",
     "output_type": "stream",
     "text": [
      "+------+-------+------+----------+\n",
      "|userId|movieId|rating|prediction|\n",
      "+------+-------+------+----------+\n",
      "|   232|    463|   4.0| 3.4215581|\n",
      "|    85|    471|   3.0| 2.8765335|\n",
      "|   452|    471|   3.0| 3.3119018|\n",
      "|   309|    471|   4.0| 4.2360477|\n",
      "|   358|    471|   5.0| 3.8490489|\n",
      "+------+-------+------+----------+\n",
      "only showing top 5 rows\n",
      "\n"
     ]
    }
   ],
   "source": [
    "# Generate predictions for all user ratings using the new ALS model\n",
    "\n",
    "pred_df = model.transform(test_df)\n",
    "\n",
    "pred_df.show(5)"
   ]
  },
  {
   "cell_type": "code",
   "execution_count": 29,
   "id": "994e7d5e",
   "metadata": {},
   "outputs": [
    {
     "name": "stdout",
     "output_type": "stream",
     "text": [
      "+------+-------+------+----------+\n",
      "|userId|movieId|rating|prediction|\n",
      "+------+-------+------+----------+\n",
      "|   672|    364|   5.0| 4.3420334|\n",
      "|   671|   4886|   5.0|  4.016987|\n",
      "|   671|   2804|   5.0| 3.8661559|\n",
      "|   671|   3114|   5.0| 4.1227794|\n",
      "|   671|   2291|   5.0| 3.7502224|\n",
      "+------+-------+------+----------+\n",
      "\n"
     ]
    }
   ],
   "source": [
    "# Sort pred_df by \"userId\" and \"rating\" in descending order\n",
    "\n",
    "pred_df.sort(\"userId\",\"rating\", ascending=False).limit(5).show()"
   ]
  },
  {
   "cell_type": "code",
   "execution_count": 30,
   "id": "931ae5df",
   "metadata": {},
   "outputs": [
    {
     "name": "stdout",
     "output_type": "stream",
     "text": [
      "Best Model Hyperparameters:\n",
      " rank = 50\n",
      " MaxIter = 20\n",
      " RegParam = 0.1\n"
     ]
    }
   ],
   "source": [
    "# Check best model hyperparameters, which should remain the same as given above\n",
    "\n",
    "bestModel = model.bestModel.stages[0]\n",
    "\n",
    "bestModel_rank = bestModel.rank\n",
    "bestModel_MaxIter = bestModel._java_obj.parent().getMaxIter()\n",
    "bestModel_RegParam = bestModel._java_obj.parent().getRegParam()\n",
    "\n",
    "print(\"Best Model Hyperparameters:\")\n",
    "print(f\" rank = {bestModel_rank}\")\n",
    "print(f\" MaxIter = {bestModel_MaxIter}\")\n",
    "print(f\" RegParam = {bestModel_RegParam}\")"
   ]
  },
  {
   "cell_type": "markdown",
   "id": "bff8ffdf",
   "metadata": {},
   "source": [
    "#### Step 7.5: Check performance metrics of the model"
   ]
  },
  {
   "cell_type": "code",
   "execution_count": 31,
   "id": "beac1bd6",
   "metadata": {},
   "outputs": [
    {
     "name": "stdout",
     "output_type": "stream",
     "text": [
      "RMSE = 0.9011\n"
     ]
    }
   ],
   "source": [
    "# Check RMSE evaluation metric for the model predictions\n",
    "\n",
    "rmse = evaluator.evaluate(pred_df)\n",
    "print(f\"RMSE = {rmse:.4f}\")"
   ]
  },
  {
   "cell_type": "markdown",
   "id": "86cfa549",
   "metadata": {},
   "source": [
    "#### Step 7.6: Generate movie recommendations for existing users"
   ]
  },
  {
   "cell_type": "code",
   "execution_count": 32,
   "id": "13d25be5",
   "metadata": {},
   "outputs": [
    {
     "name": "stdout",
     "output_type": "stream",
     "text": [
      "+------+--------------------+\n",
      "|userId|     recommendations|\n",
      "+------+--------------------+\n",
      "|   471|[{54328, 4.632806...|\n",
      "|   463|[{83411, 4.550862...|\n",
      "|   496|[{108583, 5.09745...|\n",
      "|   148|[{83411, 5.210514...|\n",
      "|   540|[{3462, 5.074485}...|\n",
      "+------+--------------------+\n",
      "only showing top 5 rows\n",
      "\n"
     ]
    }
   ],
   "source": [
    "# Generate top 10 movie recommendations for all users\n",
    "\n",
    "recommendations_all_10 = bestModel.recommendForAllUsers(10)\n",
    "recommendations_all_10.show(5)"
   ]
  },
  {
   "cell_type": "markdown",
   "id": "37cb4e24",
   "metadata": {},
   "source": [
    "#### Step 7.7: Retrieve movie recommendations for the new user"
   ]
  },
  {
   "cell_type": "code",
   "execution_count": 33,
   "id": "40db8c09",
   "metadata": {},
   "outputs": [
    {
     "name": "stdout",
     "output_type": "stream",
     "text": [
      "+------+-------+-----------+\n",
      "|userId|movieId|pred_rating|\n",
      "+------+-------+-----------+\n",
      "|   672|  83411|  5.3297186|\n",
      "|   672|  67504|  5.3297186|\n",
      "|   672|  83318|  5.3297186|\n",
      "|   672|   4306|  4.9407563|\n",
      "|   672|   3462|  4.9163284|\n",
      "|   672|      1|  4.8858476|\n",
      "|   672|   6377|  4.8782406|\n",
      "|   672|  54328|   4.877879|\n",
      "|   672|  59684|   4.865235|\n",
      "|   672|    527|  4.8487167|\n",
      "+------+-------+-----------+\n",
      "\n"
     ]
    }
   ],
   "source": [
    "# Unpack the list of top 10 movieIds from recommendations column using <explode> function\n",
    "\n",
    "recommendations_new_user = recommendations_all_10.filter(recommendations_all_10.userId == new_userId)\n",
    "\n",
    "recommendations_new_user.registerTempTable(\"ALS_recommendations_new_user\") \n",
    " \n",
    "recommendations_new_user_exploded = spark.sql(\"SELECT userId, recommendation.movieId AS movieId,\\\n",
    "                               recommendation.rating AS pred_rating \\\n",
    "                               FROM ALS_recommendations_new_user \\\n",
    "                               LATERAL VIEW explode(recommendations) exploded_table \\\n",
    "                               AS recommendation\")\n",
    "\n",
    "recommendations_new_user_exploded.show() "
   ]
  },
  {
   "cell_type": "code",
   "execution_count": 34,
   "id": "f811c9bb",
   "metadata": {},
   "outputs": [
    {
     "name": "stdout",
     "output_type": "stream",
     "text": [
      "+-------+------+-----------+--------------------+--------------------+\n",
      "|movieId|userId|pred_rating|               title|              genres|\n",
      "+-------+------+-----------+--------------------+--------------------+\n",
      "|  83411|   672|  5.3297186|         Cops (1922)|              Comedy|\n",
      "|  67504|   672|  5.3297186|Land of Silence a...|         Documentary|\n",
      "|  83318|   672|  5.3297186|    Goat, The (1921)|              Comedy|\n",
      "|   4306|   672|  4.9407563|        Shrek (2001)|Adventure|Animati...|\n",
      "|   3462|   672|  4.9163284| Modern Times (1936)|Comedy|Drama|Romance|\n",
      "|      1|   672|  4.8858476|    Toy Story (1995)|Adventure|Animati...|\n",
      "|   6377|   672|  4.8782406| Finding Nemo (2003)|Adventure|Animati...|\n",
      "|  54328|   672|   4.877879|My Best Friend (M...|              Comedy|\n",
      "|  59684|   672|   4.865235| Lake of Fire (2006)|         Documentary|\n",
      "|    527|   672|  4.8487167|Schindler's List ...|           Drama|War|\n",
      "+-------+------+-----------+--------------------+--------------------+\n",
      "\n"
     ]
    }
   ],
   "source": [
    "# Add movie info (movie title and genres) to top 10 movie recommendations data (with movieIds and ratings)\n",
    "\n",
    "recommendations_new_user_exploded.join(movies, [\"movieId\"], \"left\").show()"
   ]
  },
  {
   "cell_type": "code",
   "execution_count": null,
   "id": "e12ae434",
   "metadata": {},
   "outputs": [],
   "source": []
  }
 ],
 "metadata": {
  "kernelspec": {
   "display_name": "Python 3.6.8",
   "language": "python",
   "name": "py36"
  },
  "language_info": {
   "codemirror_mode": {
    "name": "ipython",
    "version": 3
   },
   "file_extension": ".py",
   "mimetype": "text/x-python",
   "name": "python",
   "nbconvert_exporter": "python",
   "pygments_lexer": "ipython3",
   "version": "3.6.8"
  }
 },
 "nbformat": 4,
 "nbformat_minor": 5
}
