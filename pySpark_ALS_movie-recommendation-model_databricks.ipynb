{
 "cells": [
  {
   "cell_type": "markdown",
   "metadata": {
    "application/vnd.databricks.v1+cell": {
     "inputWidgets": {},
     "nuid": "a4d9ddb0-7d6d-4399-8e4b-4e2a7b418492",
     "showTitle": false,
     "title": ""
    }
   },
   "source": [
    "## Movie Recommendation Model using Alternating Least Squares (ALS) ML algorithm"
   ]
  },
  {
   "cell_type": "markdown",
   "metadata": {
    "application/vnd.databricks.v1+cell": {
     "inputWidgets": {},
     "nuid": "d10ed61d-1c0f-4242-85d0-188b6e0d5453",
     "showTitle": false,
     "title": ""
    }
   },
   "source": [
    "#### Requirements to run this notebook:\n",
    "- Spark environment / Spark DataFrame API\n",
    "- MovieLens dataset"
   ]
  },
  {
   "cell_type": "code",
   "execution_count": 0,
   "metadata": {
    "application/vnd.databricks.v1+cell": {
     "inputWidgets": {},
     "nuid": "b448f7d8-808c-4912-b834-f226a2f13934",
     "showTitle": false,
     "title": ""
    }
   },
   "outputs": [
    {
     "data": {
      "text/html": [
       "<style scoped>\n",
       "  .ansiout {\n",
       "    display: block;\n",
       "    unicode-bidi: embed;\n",
       "    white-space: pre-wrap;\n",
       "    word-wrap: break-word;\n",
       "    word-break: break-all;\n",
       "    font-family: \"Source Code Pro\", \"Menlo\", monospace;;\n",
       "    font-size: 13px;\n",
       "    color: #555;\n",
       "    margin-left: 4px;\n",
       "    line-height: 19px;\n",
       "  }\n",
       "</style>\n",
       "<div class=\"ansiout\">Python interpreter will be restarted.\n",
       "Collecting findspark\n",
       "  Downloading findspark-1.4.2-py2.py3-none-any.whl (4.2 kB)\n",
       "Installing collected packages: findspark\n",
       "Successfully installed findspark-1.4.2\n",
       "WARNING: You are using pip version 20.2.4; however, version 21.3.1 is available.\n",
       "You should consider upgrading via the &#39;/local_disk0/.ephemeral_nfs/envs/pythonEnv-0873d776-1e19-4957-8a70-603a08c67a45/bin/python -m pip install --upgrade pip&#39; command.\n",
       "Python interpreter will be restarted.\n",
       "</div>"
      ]
     },
     "metadata": {
      "application/vnd.databricks.v1+output": {
       "addedWidgets": {},
       "arguments": {},
       "data": "<div class=\"ansiout\">Python interpreter will be restarted.\nCollecting findspark\n  Downloading findspark-1.4.2-py2.py3-none-any.whl (4.2 kB)\nInstalling collected packages: findspark\nSuccessfully installed findspark-1.4.2\nWARNING: You are using pip version 20.2.4; however, version 21.3.1 is available.\nYou should consider upgrading via the &#39;/local_disk0/.ephemeral_nfs/envs/pythonEnv-0873d776-1e19-4957-8a70-603a08c67a45/bin/python -m pip install --upgrade pip&#39; command.\nPython interpreter will be restarted.\n</div>",
       "datasetInfos": [],
       "metadata": {},
       "removedWidgets": [],
       "type": "html"
      }
     },
     "output_type": "display_data"
    }
   ],
   "source": [
    "%pip install findspark"
   ]
  },
  {
   "cell_type": "code",
   "execution_count": 0,
   "metadata": {
    "application/vnd.databricks.v1+cell": {
     "inputWidgets": {},
     "nuid": "17932370-a62a-42e1-b063-2f96c369a076",
     "showTitle": false,
     "title": ""
    }
   },
   "outputs": [
    {
     "data": {
      "text/html": [
       "<style scoped>\n",
       "  .ansiout {\n",
       "    display: block;\n",
       "    unicode-bidi: embed;\n",
       "    white-space: pre-wrap;\n",
       "    word-wrap: break-word;\n",
       "    word-break: break-all;\n",
       "    font-family: \"Source Code Pro\", \"Menlo\", monospace;;\n",
       "    font-size: 13px;\n",
       "    color: #555;\n",
       "    margin-left: 4px;\n",
       "    line-height: 19px;\n",
       "  }\n",
       "</style>\n",
       "<div class=\"ansiout\">Out[1]: &#39;/databricks/spark&#39;</div>"
      ]
     },
     "metadata": {
      "application/vnd.databricks.v1+output": {
       "addedWidgets": {},
       "arguments": {},
       "data": "<div class=\"ansiout\">Out[1]: &#39;/databricks/spark&#39;</div>",
       "datasetInfos": [],
       "metadata": {},
       "removedWidgets": [],
       "type": "html"
      }
     },
     "output_type": "display_data"
    }
   ],
   "source": [
    "## check Spark environment\n",
    "\n",
    "import findspark\n",
    "findspark.init()\n",
    "findspark.find()"
   ]
  },
  {
   "cell_type": "code",
   "execution_count": 0,
   "metadata": {
    "application/vnd.databricks.v1+cell": {
     "inputWidgets": {},
     "nuid": "b1294e71-f598-40bd-9f1a-aa9449f56365",
     "showTitle": false,
     "title": ""
    }
   },
   "outputs": [
    {
     "data": {
      "text/html": [
       "<style scoped>\n",
       "  .ansiout {\n",
       "    display: block;\n",
       "    unicode-bidi: embed;\n",
       "    white-space: pre-wrap;\n",
       "    word-wrap: break-word;\n",
       "    word-break: break-all;\n",
       "    font-family: \"Source Code Pro\", \"Menlo\", monospace;;\n",
       "    font-size: 13px;\n",
       "    color: #555;\n",
       "    margin-left: 4px;\n",
       "    line-height: 19px;\n",
       "  }\n",
       "</style>\n",
       "<div class=\"ansiout\">Out[2]: &#39;8.3.x-scala2.12&#39;</div>"
      ]
     },
     "metadata": {
      "application/vnd.databricks.v1+output": {
       "addedWidgets": {},
       "arguments": {},
       "data": "<div class=\"ansiout\">Out[2]: &#39;8.3.x-scala2.12&#39;</div>",
       "datasetInfos": [],
       "metadata": {},
       "removedWidgets": [],
       "type": "html"
      }
     },
     "output_type": "display_data"
    }
   ],
   "source": [
    "## Databricks runtime and Scala version\n",
    "\n",
    "spark.conf.get(\"spark.databricks.clusterUsageTags.sparkVersion\")\n",
    "# Databricks Runtime Version: 8.3 (includes Apache Spark 3.1.1, Scala 2.12)"
   ]
  },
  {
   "cell_type": "code",
   "execution_count": 0,
   "metadata": {
    "application/vnd.databricks.v1+cell": {
     "inputWidgets": {},
     "nuid": "b1f1dbd7-1c32-4306-89bb-500db3d8c70b",
     "showTitle": false,
     "title": ""
    }
   },
   "outputs": [
    {
     "data": {
      "text/html": [
       "<style scoped>\n",
       "  .ansiout {\n",
       "    display: block;\n",
       "    unicode-bidi: embed;\n",
       "    white-space: pre-wrap;\n",
       "    word-wrap: break-word;\n",
       "    word-break: break-all;\n",
       "    font-family: \"Source Code Pro\", \"Menlo\", monospace;;\n",
       "    font-size: 13px;\n",
       "    color: #555;\n",
       "    margin-left: 4px;\n",
       "    line-height: 19px;\n",
       "  }\n",
       "</style>\n",
       "<div class=\"ansiout\">Out[3]: </div>"
      ]
     },
     "metadata": {
      "application/vnd.databricks.v1+output": {
       "addedWidgets": {},
       "arguments": {},
       "data": "<div class=\"ansiout\">Out[3]: </div>",
       "datasetInfos": [],
       "metadata": {},
       "removedWidgets": [],
       "type": "html"
      }
     },
     "output_type": "display_data"
    },
    {
     "data": {
      "text/html": [
       "\n",
       "            <div>\n",
       "                <p><b>SparkSession - hive</b></p>\n",
       "                \n",
       "        <div>\n",
       "            <p><b>SparkContext</b></p>\n",
       "\n",
       "            <p><a href=\"/?o=3084751067615937#setting/sparkui/1026-191358-tv69nfsn/driver-5967630746016445454\">Spark UI</a></p>\n",
       "\n",
       "            <dl>\n",
       "              <dt>Version</dt>\n",
       "                <dd><code>v3.1.0</code></dd>\n",
       "              <dt>Master</dt>\n",
       "                <dd><code>local[8]</code></dd>\n",
       "              <dt>AppName</dt>\n",
       "                <dd><code>Databricks Shell</code></dd>\n",
       "            </dl>\n",
       "        </div>\n",
       "        \n",
       "            </div>\n",
       "        "
      ]
     },
     "metadata": {
      "application/vnd.databricks.v1+output": {
       "addedWidgets": {},
       "arguments": {},
       "data": "\n            <div>\n                <p><b>SparkSession - hive</b></p>\n                \n        <div>\n            <p><b>SparkContext</b></p>\n\n            <p><a href=\"/?o=3084751067615937#setting/sparkui/1026-191358-tv69nfsn/driver-5967630746016445454\">Spark UI</a></p>\n\n            <dl>\n              <dt>Version</dt>\n                <dd><code>v3.1.0</code></dd>\n              <dt>Master</dt>\n                <dd><code>local[8]</code></dd>\n              <dt>AppName</dt>\n                <dd><code>Databricks Shell</code></dd>\n            </dl>\n        </div>\n        \n            </div>\n        ",
       "datasetInfos": [],
       "metadata": {},
       "removedWidgets": [],
       "textData": null,
       "type": "htmlSandbox"
      }
     },
     "output_type": "display_data"
    }
   ],
   "source": [
    "## SparkSession: pre-configured for Databricks Notebook by default (on Databricks Community Edition)\n",
    "\n",
    "#from pyspark.sql import SparkSession\n",
    "#spark = SparkSession.builder.appName(\"Databricks Shell\").getOrCreate()\n",
    "spark"
   ]
  },
  {
   "cell_type": "markdown",
   "metadata": {
    "application/vnd.databricks.v1+cell": {
     "inputWidgets": {},
     "nuid": "a70be0ca-14da-4857-b240-566bb41cfdad",
     "showTitle": false,
     "title": ""
    }
   },
   "source": [
    "#### Process Overview\n",
    "- Step 1: Load MovieLens dataset and perform exploratory data analysis\n",
    "- Step 2: Split movie ratings data into training and testing datasets\n",
    "- Step 3: Build ALS machine learning model to predict users movie ratings\n",
    "- Step 4: Predict movie ratings for all users using the ALS model \n",
    "- Step 5: Check performance metrics of the model\n",
    "- Step 6: Generate movie recommendations for existing users\n",
    "- Step 7: Generate movie recommendations for a new user"
   ]
  },
  {
   "cell_type": "markdown",
   "metadata": {
    "application/vnd.databricks.v1+cell": {
     "inputWidgets": {},
     "nuid": "8805320d-3405-48ae-887e-28983f74b672",
     "showTitle": false,
     "title": ""
    }
   },
   "source": [
    "### Step 1: Load MovieLens dataset and perform exploratory data analysis"
   ]
  },
  {
   "cell_type": "code",
   "execution_count": 0,
   "metadata": {
    "application/vnd.databricks.v1+cell": {
     "inputWidgets": {},
     "nuid": "7067389b-77ca-4e45-9395-1dcf5ba440c7",
     "showTitle": false,
     "title": ""
    }
   },
   "outputs": [
    {
     "data": {
      "text/html": [
       "<style scoped>\n",
       "  .ansiout {\n",
       "    display: block;\n",
       "    unicode-bidi: embed;\n",
       "    white-space: pre-wrap;\n",
       "    word-wrap: break-word;\n",
       "    word-break: break-all;\n",
       "    font-family: \"Source Code Pro\", \"Menlo\", monospace;;\n",
       "    font-size: 13px;\n",
       "    color: #555;\n",
       "    margin-left: 4px;\n",
       "    line-height: 19px;\n",
       "  }\n",
       "</style>\n",
       "<div class=\"ansiout\">+-------+--------------------+--------------------+\n",
       "movieId|               title|              genres|\n",
       "+-------+--------------------+--------------------+\n",
       "      1|    Toy Story (1995)|Adventure|Animati...|\n",
       "      2|      Jumanji (1995)|Adventure|Childre...|\n",
       "      3|Grumpier Old Men ...|      Comedy|Romance|\n",
       "      4|Waiting to Exhale...|Comedy|Drama|Romance|\n",
       "      5|Father of the Bri...|              Comedy|\n",
       "+-------+--------------------+--------------------+\n",
       "only showing top 5 rows\n",
       "\n",
       "</div>"
      ]
     },
     "metadata": {
      "application/vnd.databricks.v1+output": {
       "addedWidgets": {},
       "arguments": {},
       "data": "<div class=\"ansiout\">+-------+--------------------+--------------------+\n|movieId|               title|              genres|\n+-------+--------------------+--------------------+\n|      1|    Toy Story (1995)|Adventure|Animati...|\n|      2|      Jumanji (1995)|Adventure|Childre...|\n|      3|Grumpier Old Men ...|      Comedy|Romance|\n|      4|Waiting to Exhale...|Comedy|Drama|Romance|\n|      5|Father of the Bri...|              Comedy|\n+-------+--------------------+--------------------+\nonly showing top 5 rows\n\n</div>",
       "datasetInfos": [],
       "metadata": {},
       "removedWidgets": [],
       "type": "html"
      }
     },
     "output_type": "display_data"
    }
   ],
   "source": [
    "movies = spark.read.format(\"csv\") \\\n",
    "  .option(\"inferSchema\", \"true\") \\\n",
    "  .option(\"header\", \"true\") \\\n",
    "  .option(\"sep\", \",\") \\\n",
    "  .load(\"/FileStore/tables/ml_latest_small_movies.csv\")\n",
    "\n",
    "movies.show(5)"
   ]
  },
  {
   "cell_type": "code",
   "execution_count": 0,
   "metadata": {
    "application/vnd.databricks.v1+cell": {
     "inputWidgets": {},
     "nuid": "859577ef-3166-458b-a792-de5a477ac173",
     "showTitle": false,
     "title": ""
    }
   },
   "outputs": [
    {
     "data": {
      "text/html": [
       "<style scoped>\n",
       "  .ansiout {\n",
       "    display: block;\n",
       "    unicode-bidi: embed;\n",
       "    white-space: pre-wrap;\n",
       "    word-wrap: break-word;\n",
       "    word-break: break-all;\n",
       "    font-family: \"Source Code Pro\", \"Menlo\", monospace;;\n",
       "    font-size: 13px;\n",
       "    color: #555;\n",
       "    margin-left: 4px;\n",
       "    line-height: 19px;\n",
       "  }\n",
       "</style>\n",
       "<div class=\"ansiout\">+------+-------+------+----------+\n",
       "userId|movieId|rating| timestamp|\n",
       "+------+-------+------+----------+\n",
       "     1|     31|   2.5|1260759144|\n",
       "     1|   1029|   3.0|1260759179|\n",
       "     1|   1061|   3.0|1260759182|\n",
       "     1|   1129|   2.0|1260759185|\n",
       "     1|   1172|   4.0|1260759205|\n",
       "+------+-------+------+----------+\n",
       "only showing top 5 rows\n",
       "\n",
       "</div>"
      ]
     },
     "metadata": {
      "application/vnd.databricks.v1+output": {
       "addedWidgets": {},
       "arguments": {},
       "data": "<div class=\"ansiout\">+------+-------+------+----------+\n|userId|movieId|rating| timestamp|\n+------+-------+------+----------+\n|     1|     31|   2.5|1260759144|\n|     1|   1029|   3.0|1260759179|\n|     1|   1061|   3.0|1260759182|\n|     1|   1129|   2.0|1260759185|\n|     1|   1172|   4.0|1260759205|\n+------+-------+------+----------+\nonly showing top 5 rows\n\n</div>",
       "datasetInfos": [],
       "metadata": {},
       "removedWidgets": [],
       "type": "html"
      }
     },
     "output_type": "display_data"
    }
   ],
   "source": [
    "ratings = spark.read.format(\"csv\") \\\n",
    "  .option(\"inferSchema\", \"true\") \\\n",
    "  .option(\"header\", \"true\") \\\n",
    "  .option(\"sep\", \",\") \\\n",
    "  .load(\"/FileStore/tables/ml_latest_small_ratings.csv\")\n",
    "\n",
    "ratings.show(5)"
   ]
  },
  {
   "cell_type": "code",
   "execution_count": 0,
   "metadata": {
    "application/vnd.databricks.v1+cell": {
     "inputWidgets": {},
     "nuid": "ba72a610-a29c-4106-a050-49dca99c4296",
     "showTitle": false,
     "title": ""
    }
   },
   "outputs": [
    {
     "data": {
      "text/html": [
       "<style scoped>\n",
       "  .ansiout {\n",
       "    display: block;\n",
       "    unicode-bidi: embed;\n",
       "    white-space: pre-wrap;\n",
       "    word-wrap: break-word;\n",
       "    word-break: break-all;\n",
       "    font-family: \"Source Code Pro\", \"Menlo\", monospace;;\n",
       "    font-size: 13px;\n",
       "    color: #555;\n",
       "    margin-left: 4px;\n",
       "    line-height: 19px;\n",
       "  }\n",
       "</style>\n",
       "<div class=\"ansiout\">+------+-------+------+\n",
       "userId|movieId|rating|\n",
       "+------+-------+------+\n",
       "     1|     31|   2.5|\n",
       "     1|   1029|   3.0|\n",
       "     1|   1061|   3.0|\n",
       "     1|   1129|   2.0|\n",
       "     1|   1172|   4.0|\n",
       "+------+-------+------+\n",
       "only showing top 5 rows\n",
       "\n",
       "</div>"
      ]
     },
     "metadata": {
      "application/vnd.databricks.v1+output": {
       "addedWidgets": {},
       "arguments": {},
       "data": "<div class=\"ansiout\">+------+-------+------+\n|userId|movieId|rating|\n+------+-------+------+\n|     1|     31|   2.5|\n|     1|   1029|   3.0|\n|     1|   1061|   3.0|\n|     1|   1129|   2.0|\n|     1|   1172|   4.0|\n+------+-------+------+\nonly showing top 5 rows\n\n</div>",
       "datasetInfos": [],
       "metadata": {},
       "removedWidgets": [],
       "type": "html"
      }
     },
     "output_type": "display_data"
    }
   ],
   "source": [
    "ratings = ratings.drop('timestamp')\n",
    "ratings.show(5)"
   ]
  },
  {
   "cell_type": "code",
   "execution_count": 0,
   "metadata": {
    "application/vnd.databricks.v1+cell": {
     "inputWidgets": {},
     "nuid": "66b84eaa-8640-4504-bc63-de18b8ef474f",
     "showTitle": false,
     "title": ""
    }
   },
   "outputs": [
    {
     "data": {
      "text/html": [
       "<style scoped>\n",
       "  .ansiout {\n",
       "    display: block;\n",
       "    unicode-bidi: embed;\n",
       "    white-space: pre-wrap;\n",
       "    word-wrap: break-word;\n",
       "    word-break: break-all;\n",
       "    font-family: \"Source Code Pro\", \"Menlo\", monospace;;\n",
       "    font-size: 13px;\n",
       "    color: #555;\n",
       "    margin-left: 4px;\n",
       "    line-height: 19px;\n",
       "  }\n",
       "</style>\n",
       "<div class=\"ansiout\">root\n",
       "-- userId: integer (nullable = true)\n",
       "-- movieId: integer (nullable = true)\n",
       "-- rating: double (nullable = true)\n",
       "\n",
       "</div>"
      ]
     },
     "metadata": {
      "application/vnd.databricks.v1+output": {
       "addedWidgets": {},
       "arguments": {},
       "data": "<div class=\"ansiout\">root\n |-- userId: integer (nullable = true)\n |-- movieId: integer (nullable = true)\n |-- rating: double (nullable = true)\n\n</div>",
       "datasetInfos": [],
       "metadata": {},
       "removedWidgets": [],
       "type": "html"
      }
     },
     "output_type": "display_data"
    }
   ],
   "source": [
    "ratings.printSchema()"
   ]
  },
  {
   "cell_type": "code",
   "execution_count": 0,
   "metadata": {
    "application/vnd.databricks.v1+cell": {
     "inputWidgets": {},
     "nuid": "00632150-0f64-4054-b27d-aee476e4eb87",
     "showTitle": false,
     "title": ""
    }
   },
   "outputs": [
    {
     "data": {
      "text/html": [
       "<style scoped>\n",
       "  .ansiout {\n",
       "    display: block;\n",
       "    unicode-bidi: embed;\n",
       "    white-space: pre-wrap;\n",
       "    word-wrap: break-word;\n",
       "    word-break: break-all;\n",
       "    font-family: \"Source Code Pro\", \"Menlo\", monospace;;\n",
       "    font-size: 13px;\n",
       "    color: #555;\n",
       "    margin-left: 4px;\n",
       "    line-height: 19px;\n",
       "  }\n",
       "</style>\n",
       "<div class=\"ansiout\">+-------+------------------+------------------+------------------+\n",
       "summary|            userId|           movieId|            rating|\n",
       "+-------+------------------+------------------+------------------+\n",
       "  count|            100004|            100004|            100004|\n",
       "   mean| 347.0113095476181|12548.664363425463| 3.543608255669773|\n",
       " stddev|195.16383797819535|26369.198968815268|1.0580641091070326|\n",
       "    min|                 1|                 1|               0.5|\n",
       "    max|               671|            163949|               5.0|\n",
       "+-------+------------------+------------------+------------------+\n",
       "\n",
       "</div>"
      ]
     },
     "metadata": {
      "application/vnd.databricks.v1+output": {
       "addedWidgets": {},
       "arguments": {},
       "data": "<div class=\"ansiout\">+-------+------------------+------------------+------------------+\n|summary|            userId|           movieId|            rating|\n+-------+------------------+------------------+------------------+\n|  count|            100004|            100004|            100004|\n|   mean| 347.0113095476181|12548.664363425463| 3.543608255669773|\n| stddev|195.16383797819535|26369.198968815268|1.0580641091070326|\n|    min|                 1|                 1|               0.5|\n|    max|               671|            163949|               5.0|\n+-------+------------------+------------------+------------------+\n\n</div>",
       "datasetInfos": [],
       "metadata": {},
       "removedWidgets": [],
       "type": "html"
      }
     },
     "output_type": "display_data"
    }
   ],
   "source": [
    "ratings.describe().show()"
   ]
  },
  {
   "cell_type": "markdown",
   "metadata": {
    "application/vnd.databricks.v1+cell": {
     "inputWidgets": {},
     "nuid": "a7c46875-b86d-420e-99ac-175b4f7c0b5c",
     "showTitle": false,
     "title": ""
    }
   },
   "source": [
    "### Step 2: Split movie ratings data into training and testing datasets"
   ]
  },
  {
   "cell_type": "code",
   "execution_count": 0,
   "metadata": {
    "application/vnd.databricks.v1+cell": {
     "inputWidgets": {},
     "nuid": "73e03941-0d4c-4cae-b2ed-812e00e01920",
     "showTitle": false,
     "title": ""
    }
   },
   "outputs": [
    {
     "data": {
      "text/html": [
       "<style scoped>\n",
       "  .ansiout {\n",
       "    display: block;\n",
       "    unicode-bidi: embed;\n",
       "    white-space: pre-wrap;\n",
       "    word-wrap: break-word;\n",
       "    word-break: break-all;\n",
       "    font-family: \"Source Code Pro\", \"Menlo\", monospace;;\n",
       "    font-size: 13px;\n",
       "    color: #555;\n",
       "    margin-left: 4px;\n",
       "    line-height: 19px;\n",
       "  }\n",
       "</style>\n",
       "<div class=\"ansiout\"></div>"
      ]
     },
     "metadata": {
      "application/vnd.databricks.v1+output": {
       "addedWidgets": {},
       "arguments": {},
       "data": "<div class=\"ansiout\"></div>",
       "datasetInfos": [],
       "metadata": {},
       "removedWidgets": [],
       "type": "html"
      }
     },
     "output_type": "display_data"
    }
   ],
   "source": [
    "train_df, test_df = ratings.randomSplit([0.8,0.2], seed = 1234)"
   ]
  },
  {
   "cell_type": "markdown",
   "metadata": {
    "application/vnd.databricks.v1+cell": {
     "inputWidgets": {},
     "nuid": "8e570a9d-2b71-4b3c-845a-5eec50c30044",
     "showTitle": false,
     "title": ""
    }
   },
   "source": [
    "### Step 3: Build ALS machine learning model to predict users movie ratings"
   ]
  },
  {
   "cell_type": "code",
   "execution_count": 0,
   "metadata": {
    "application/vnd.databricks.v1+cell": {
     "inputWidgets": {},
     "nuid": "4ea447b9-a9cc-4aee-b546-7a433561356f",
     "showTitle": false,
     "title": ""
    }
   },
   "outputs": [
    {
     "data": {
      "text/html": [
       "<style scoped>\n",
       "  .ansiout {\n",
       "    display: block;\n",
       "    unicode-bidi: embed;\n",
       "    white-space: pre-wrap;\n",
       "    word-wrap: break-word;\n",
       "    word-break: break-all;\n",
       "    font-family: \"Source Code Pro\", \"Menlo\", monospace;;\n",
       "    font-size: 13px;\n",
       "    color: #555;\n",
       "    margin-left: 4px;\n",
       "    line-height: 19px;\n",
       "  }\n",
       "</style>\n",
       "<div class=\"ansiout\"></div>"
      ]
     },
     "metadata": {
      "application/vnd.databricks.v1+output": {
       "addedWidgets": {},
       "arguments": {},
       "data": "<div class=\"ansiout\"></div>",
       "datasetInfos": [],
       "metadata": {},
       "removedWidgets": [],
       "type": "html"
      }
     },
     "output_type": "display_data"
    }
   ],
   "source": [
    "# Load packages and modules\n",
    "\n",
    "from pyspark.ml import Pipeline\n",
    "from pyspark.ml.evaluation import RegressionEvaluator\n",
    "from pyspark.ml.recommendation import ALS\n",
    "from pyspark.ml.tuning import CrossValidator, ParamGridBuilder"
   ]
  },
  {
   "cell_type": "code",
   "execution_count": 0,
   "metadata": {
    "application/vnd.databricks.v1+cell": {
     "inputWidgets": {},
     "nuid": "382371e3-349e-4983-b2ce-bfc2ef144981",
     "showTitle": false,
     "title": ""
    }
   },
   "outputs": [
    {
     "data": {
      "text/html": [
       "<style scoped>\n",
       "  .ansiout {\n",
       "    display: block;\n",
       "    unicode-bidi: embed;\n",
       "    white-space: pre-wrap;\n",
       "    word-wrap: break-word;\n",
       "    word-break: break-all;\n",
       "    font-family: \"Source Code Pro\", \"Menlo\", monospace;;\n",
       "    font-size: 13px;\n",
       "    color: #555;\n",
       "    margin-left: 4px;\n",
       "    line-height: 19px;\n",
       "  }\n",
       "</style>\n",
       "<div class=\"ansiout\"></div>"
      ]
     },
     "metadata": {
      "application/vnd.databricks.v1+output": {
       "addedWidgets": {},
       "arguments": {},
       "data": "<div class=\"ansiout\"></div>",
       "datasetInfos": [],
       "metadata": {},
       "removedWidgets": [],
       "type": "html"
      }
     },
     "output_type": "display_data"
    }
   ],
   "source": [
    "# Create ALS model\n",
    "\n",
    "als = ALS(userCol=\"userId\", itemCol=\"movieId\", ratingCol=\"rating\", coldStartStrategy=\"drop\", nonnegative=True)"
   ]
  },
  {
   "cell_type": "code",
   "execution_count": 0,
   "metadata": {
    "application/vnd.databricks.v1+cell": {
     "inputWidgets": {},
     "nuid": "33ad3a30-53ca-41b5-b0e6-7f10a41c570e",
     "showTitle": false,
     "title": ""
    }
   },
   "outputs": [
    {
     "data": {
      "text/html": [
       "<style scoped>\n",
       "  .ansiout {\n",
       "    display: block;\n",
       "    unicode-bidi: embed;\n",
       "    white-space: pre-wrap;\n",
       "    word-wrap: break-word;\n",
       "    word-break: break-all;\n",
       "    font-family: \"Source Code Pro\", \"Menlo\", monospace;;\n",
       "    font-size: 13px;\n",
       "    color: #555;\n",
       "    margin-left: 4px;\n",
       "    line-height: 19px;\n",
       "  }\n",
       "</style>\n",
       "<div class=\"ansiout\"></div>"
      ]
     },
     "metadata": {
      "application/vnd.databricks.v1+output": {
       "addedWidgets": {},
       "arguments": {},
       "data": "<div class=\"ansiout\"></div>",
       "datasetInfos": [],
       "metadata": {},
       "removedWidgets": [],
       "type": "html"
      }
     },
     "output_type": "display_data"
    }
   ],
   "source": [
    "# Create a pipleline\n",
    "\n",
    "pipeline = Pipeline(stages=[als])"
   ]
  },
  {
   "cell_type": "code",
   "execution_count": 0,
   "metadata": {
    "application/vnd.databricks.v1+cell": {
     "inputWidgets": {},
     "nuid": "41f19d13-d852-42eb-b4eb-b509426ebe03",
     "showTitle": false,
     "title": ""
    }
   },
   "outputs": [
    {
     "data": {
      "text/html": [
       "<style scoped>\n",
       "  .ansiout {\n",
       "    display: block;\n",
       "    unicode-bidi: embed;\n",
       "    white-space: pre-wrap;\n",
       "    word-wrap: break-word;\n",
       "    word-break: break-all;\n",
       "    font-family: \"Source Code Pro\", \"Menlo\", monospace;;\n",
       "    font-size: 13px;\n",
       "    color: #555;\n",
       "    margin-left: 4px;\n",
       "    line-height: 19px;\n",
       "  }\n",
       "</style>\n",
       "<div class=\"ansiout\"></div>"
      ]
     },
     "metadata": {
      "application/vnd.databricks.v1+output": {
       "addedWidgets": {},
       "arguments": {},
       "data": "<div class=\"ansiout\"></div>",
       "datasetInfos": [],
       "metadata": {},
       "removedWidgets": [],
       "type": "html"
      }
     },
     "output_type": "display_data"
    }
   ],
   "source": [
    "# Create a param_grid of hyperparameters for tuning the model\n",
    "\n",
    "param_grid = ParamGridBuilder()\\\n",
    "                    .addGrid(als.rank, [5, 25, 50])\\\n",
    "                    .addGrid(als.maxIter, [20])\\\n",
    "                    .addGrid(als.regParam, [0.01, 0.1])\\\n",
    "                    .build()"
   ]
  },
  {
   "cell_type": "code",
   "execution_count": 0,
   "metadata": {
    "application/vnd.databricks.v1+cell": {
     "inputWidgets": {},
     "nuid": "193deafd-48ed-4aa4-bf9e-fb1a8800145f",
     "showTitle": false,
     "title": ""
    }
   },
   "outputs": [
    {
     "data": {
      "text/html": [
       "<style scoped>\n",
       "  .ansiout {\n",
       "    display: block;\n",
       "    unicode-bidi: embed;\n",
       "    white-space: pre-wrap;\n",
       "    word-wrap: break-word;\n",
       "    word-break: break-all;\n",
       "    font-family: \"Source Code Pro\", \"Menlo\", monospace;;\n",
       "    font-size: 13px;\n",
       "    color: #555;\n",
       "    margin-left: 4px;\n",
       "    line-height: 19px;\n",
       "  }\n",
       "</style>\n",
       "<div class=\"ansiout\"></div>"
      ]
     },
     "metadata": {
      "application/vnd.databricks.v1+output": {
       "addedWidgets": {},
       "arguments": {},
       "data": "<div class=\"ansiout\"></div>",
       "datasetInfos": [],
       "metadata": {},
       "removedWidgets": [],
       "type": "html"
      }
     },
     "output_type": "display_data"
    }
   ],
   "source": [
    "# Set model evaluation metirc (evaluator) as RMSE\n",
    "\n",
    "evaluator = RegressionEvaluator(metricName=\"rmse\", labelCol=\"rating\", predictionCol=\"prediction\")"
   ]
  },
  {
   "cell_type": "code",
   "execution_count": 0,
   "metadata": {
    "application/vnd.databricks.v1+cell": {
     "inputWidgets": {},
     "nuid": "71e64936-e479-4dbd-83fb-dac6900a6a4c",
     "showTitle": false,
     "title": ""
    }
   },
   "outputs": [
    {
     "data": {
      "text/html": [
       "<style scoped>\n",
       "  .ansiout {\n",
       "    display: block;\n",
       "    unicode-bidi: embed;\n",
       "    white-space: pre-wrap;\n",
       "    word-wrap: break-word;\n",
       "    word-break: break-all;\n",
       "    font-family: \"Source Code Pro\", \"Menlo\", monospace;;\n",
       "    font-size: 13px;\n",
       "    color: #555;\n",
       "    margin-left: 4px;\n",
       "    line-height: 19px;\n",
       "  }\n",
       "</style>\n",
       "<div class=\"ansiout\"></div>"
      ]
     },
     "metadata": {
      "application/vnd.databricks.v1+output": {
       "addedWidgets": {},
       "arguments": {},
       "data": "<div class=\"ansiout\"></div>",
       "datasetInfos": [],
       "metadata": {},
       "removedWidgets": [],
       "type": "html"
      }
     },
     "output_type": "display_data"
    }
   ],
   "source": [
    "# Build the model with cross validation setup\n",
    "\n",
    "model_cv = CrossValidator(estimator=pipeline, estimatorParamMaps=param_grid,\n",
    "                          evaluator=evaluator, numFolds=3)"
   ]
  },
  {
   "cell_type": "code",
   "execution_count": 0,
   "metadata": {
    "application/vnd.databricks.v1+cell": {
     "inputWidgets": {},
     "nuid": "856ce3e2-9a15-4d2c-b4f6-90de67f2f65b",
     "showTitle": false,
     "title": ""
    }
   },
   "outputs": [
    {
     "data": {
      "text/html": [
       "<style scoped>\n",
       "  .ansiout {\n",
       "    display: block;\n",
       "    unicode-bidi: embed;\n",
       "    white-space: pre-wrap;\n",
       "    word-wrap: break-word;\n",
       "    word-break: break-all;\n",
       "    font-family: \"Source Code Pro\", \"Menlo\", monospace;;\n",
       "    font-size: 13px;\n",
       "    color: #555;\n",
       "    margin-left: 4px;\n",
       "    line-height: 19px;\n",
       "  }\n",
       "</style>\n",
       "<div class=\"ansiout\">/databricks/spark/python/pyspark/ml/util.py:838: UserWarning: Cannot find mlflow module. To enable MLflow logging, install mlflow from PyPI.\n",
       "  warnings.warn(_MLflowInstrumentation._NO_MLFLOW_WARNING)\n",
       "</div>"
      ]
     },
     "metadata": {
      "application/vnd.databricks.v1+output": {
       "addedWidgets": {},
       "arguments": {},
       "data": "<div class=\"ansiout\">/databricks/spark/python/pyspark/ml/util.py:838: UserWarning: Cannot find mlflow module. To enable MLflow logging, install mlflow from PyPI.\n  warnings.warn(_MLflowInstrumentation._NO_MLFLOW_WARNING)\n</div>",
       "datasetInfos": [],
       "metadata": {},
       "removedWidgets": [],
       "type": "html"
      }
     },
     "output_type": "display_data"
    }
   ],
   "source": [
    "# Fit the model with train_df\n",
    "\n",
    "model = model_cv.fit(train_df)"
   ]
  },
  {
   "cell_type": "code",
   "execution_count": 0,
   "metadata": {
    "application/vnd.databricks.v1+cell": {
     "inputWidgets": {},
     "nuid": "f2fa5c5f-a040-4886-89fb-c0b9a5adf5be",
     "showTitle": false,
     "title": ""
    }
   },
   "outputs": [
    {
     "data": {
      "text/html": [
       "<style scoped>\n",
       "  .ansiout {\n",
       "    display: block;\n",
       "    unicode-bidi: embed;\n",
       "    white-space: pre-wrap;\n",
       "    word-wrap: break-word;\n",
       "    word-break: break-all;\n",
       "    font-family: \"Source Code Pro\", \"Menlo\", monospace;;\n",
       "    font-size: 13px;\n",
       "    color: #555;\n",
       "    margin-left: 4px;\n",
       "    line-height: 19px;\n",
       "  }\n",
       "</style>\n",
       "<div class=\"ansiout\">Best Model Hyperparameters:\n",
       " rank = 50\n",
       " MaxIter = 20\n",
       " RegParam = 0.1\n",
       "</div>"
      ]
     },
     "metadata": {
      "application/vnd.databricks.v1+output": {
       "addedWidgets": {},
       "arguments": {},
       "data": "<div class=\"ansiout\">Best Model Hyperparameters:\n rank = 50\n MaxIter = 20\n RegParam = 0.1\n</div>",
       "datasetInfos": [],
       "metadata": {},
       "removedWidgets": [],
       "type": "html"
      }
     },
     "output_type": "display_data"
    }
   ],
   "source": [
    "# Check best model hyperparameters\n",
    "\n",
    "bestModel = model.bestModel.stages[0]\n",
    "\n",
    "bestModel_rank = bestModel.rank\n",
    "bestModel_MaxIter = bestModel._java_obj.parent().getMaxIter()\n",
    "bestModel_RegParam = bestModel._java_obj.parent().getRegParam()\n",
    "\n",
    "print(\"Best Model Hyperparameters:\")\n",
    "print(f\" rank = {bestModel_rank}\")\n",
    "print(f\" MaxIter = {bestModel_MaxIter}\")\n",
    "print(f\" RegParam = {bestModel_RegParam}\")"
   ]
  },
  {
   "cell_type": "markdown",
   "metadata": {
    "application/vnd.databricks.v1+cell": {
     "inputWidgets": {},
     "nuid": "935a8c0d-126a-4d0d-a155-3f66ed796797",
     "showTitle": false,
     "title": ""
    }
   },
   "source": [
    "### Step 4: Predict movie ratings for all users using the ALS model"
   ]
  },
  {
   "cell_type": "code",
   "execution_count": 0,
   "metadata": {
    "application/vnd.databricks.v1+cell": {
     "inputWidgets": {},
     "nuid": "8f6ac7b9-7598-45d2-a48a-0a25b5795c3e",
     "showTitle": false,
     "title": ""
    }
   },
   "outputs": [
    {
     "data": {
      "text/html": [
       "<style scoped>\n",
       "  .ansiout {\n",
       "    display: block;\n",
       "    unicode-bidi: embed;\n",
       "    white-space: pre-wrap;\n",
       "    word-wrap: break-word;\n",
       "    word-break: break-all;\n",
       "    font-family: \"Source Code Pro\", \"Menlo\", monospace;;\n",
       "    font-size: 13px;\n",
       "    color: #555;\n",
       "    margin-left: 4px;\n",
       "    line-height: 19px;\n",
       "  }\n",
       "</style>\n",
       "<div class=\"ansiout\">+------+-------+------+----------+\n",
       "userId|movieId|rating|prediction|\n",
       "+------+-------+------+----------+\n",
       "   148|   1580|   4.0| 3.9542978|\n",
       "   243|   1580|   3.0| 3.4397376|\n",
       "   243|   1645|   3.0|  3.198189|\n",
       "   243|   2122|   2.0| 2.2513754|\n",
       "   516|   1088|   3.0| 3.6412926|\n",
       "+------+-------+------+----------+\n",
       "only showing top 5 rows\n",
       "\n",
       "</div>"
      ]
     },
     "metadata": {
      "application/vnd.databricks.v1+output": {
       "addedWidgets": {},
       "arguments": {},
       "data": "<div class=\"ansiout\">+------+-------+------+----------+\n|userId|movieId|rating|prediction|\n+------+-------+------+----------+\n|   148|   1580|   4.0| 3.9542978|\n|   243|   1580|   3.0| 3.4397376|\n|   243|   1645|   3.0|  3.198189|\n|   243|   2122|   2.0| 2.2513754|\n|   516|   1088|   3.0| 3.6412926|\n+------+-------+------+----------+\nonly showing top 5 rows\n\n</div>",
       "datasetInfos": [],
       "metadata": {},
       "removedWidgets": [],
       "type": "html"
      }
     },
     "output_type": "display_data"
    }
   ],
   "source": [
    "# Generate predictions for all user ratings using the best ALS model\n",
    "\n",
    "pred_df = bestModel.transform(test_df)\n",
    "\n",
    "pred_df.show(5)"
   ]
  },
  {
   "cell_type": "code",
   "execution_count": 0,
   "metadata": {
    "application/vnd.databricks.v1+cell": {
     "inputWidgets": {},
     "nuid": "324aa308-87bd-4b1a-a1db-93cfc8a2e2a3",
     "showTitle": false,
     "title": ""
    }
   },
   "outputs": [
    {
     "data": {
      "text/html": [
       "<style scoped>\n",
       "  .ansiout {\n",
       "    display: block;\n",
       "    unicode-bidi: embed;\n",
       "    white-space: pre-wrap;\n",
       "    word-wrap: break-word;\n",
       "    word-break: break-all;\n",
       "    font-family: \"Source Code Pro\", \"Menlo\", monospace;;\n",
       "    font-size: 13px;\n",
       "    color: #555;\n",
       "    margin-left: 4px;\n",
       "    line-height: 19px;\n",
       "  }\n",
       "</style>\n",
       "<div class=\"ansiout\">+------+-------+------+----------+\n",
       "userId|movieId|rating|prediction|\n",
       "+------+-------+------+----------+\n",
       "   671|   2291|   5.0| 4.0077057|\n",
       "   671|   1196|   5.0|  4.430912|\n",
       "   671|   2804|   5.0|  4.046247|\n",
       "   671|    356|   5.0| 3.9390647|\n",
       "   671|   4963|   4.5| 3.9226642|\n",
       "+------+-------+------+----------+\n",
       "\n",
       "</div>"
      ]
     },
     "metadata": {
      "application/vnd.databricks.v1+output": {
       "addedWidgets": {},
       "arguments": {},
       "data": "<div class=\"ansiout\">+------+-------+------+----------+\n|userId|movieId|rating|prediction|\n+------+-------+------+----------+\n|   671|   2291|   5.0| 4.0077057|\n|   671|   1196|   5.0|  4.430912|\n|   671|   2804|   5.0|  4.046247|\n|   671|    356|   5.0| 3.9390647|\n|   671|   4963|   4.5| 3.9226642|\n+------+-------+------+----------+\n\n</div>",
       "datasetInfos": [],
       "metadata": {},
       "removedWidgets": [],
       "type": "html"
      }
     },
     "output_type": "display_data"
    }
   ],
   "source": [
    "# Sort pred_df by \"userId\" and \"rating\" in descending order\n",
    "\n",
    "pred_df.sort(\"userId\",\"rating\", ascending=False).limit(5).show()"
   ]
  },
  {
   "cell_type": "markdown",
   "metadata": {
    "application/vnd.databricks.v1+cell": {
     "inputWidgets": {},
     "nuid": "e41694c9-a805-45f3-9174-2c357d2f3ee5",
     "showTitle": false,
     "title": ""
    }
   },
   "source": [
    "### Step 5: Check performance metrics of the model"
   ]
  },
  {
   "cell_type": "code",
   "execution_count": 0,
   "metadata": {
    "application/vnd.databricks.v1+cell": {
     "inputWidgets": {},
     "nuid": "abdf1821-aabd-4035-b2ca-da7778758f65",
     "showTitle": false,
     "title": ""
    }
   },
   "outputs": [
    {
     "data": {
      "text/html": [
       "<style scoped>\n",
       "  .ansiout {\n",
       "    display: block;\n",
       "    unicode-bidi: embed;\n",
       "    white-space: pre-wrap;\n",
       "    word-wrap: break-word;\n",
       "    word-break: break-all;\n",
       "    font-family: \"Source Code Pro\", \"Menlo\", monospace;;\n",
       "    font-size: 13px;\n",
       "    color: #555;\n",
       "    margin-left: 4px;\n",
       "    line-height: 19px;\n",
       "  }\n",
       "</style>\n",
       "<div class=\"ansiout\">RMSE = 0.9020\n",
       "</div>"
      ]
     },
     "metadata": {
      "application/vnd.databricks.v1+output": {
       "addedWidgets": {},
       "arguments": {},
       "data": "<div class=\"ansiout\">RMSE = 0.9020\n</div>",
       "datasetInfos": [],
       "metadata": {},
       "removedWidgets": [],
       "type": "html"
      }
     },
     "output_type": "display_data"
    }
   ],
   "source": [
    "# Check RMSE evaluation metric for the model predictions\n",
    "\n",
    "rmse = evaluator.evaluate(pred_df)\n",
    "print(f\"RMSE = {rmse:.4f}\")"
   ]
  },
  {
   "cell_type": "markdown",
   "metadata": {
    "application/vnd.databricks.v1+cell": {
     "inputWidgets": {},
     "nuid": "4c4b1e3a-b271-48ba-97b4-fdf8965cf52c",
     "showTitle": false,
     "title": ""
    }
   },
   "source": [
    "#### Re-run Step 3: Build ALS machine learning model to predict users movie ratings (using updated sets of hyperparameters)"
   ]
  },
  {
   "cell_type": "code",
   "execution_count": 0,
   "metadata": {
    "application/vnd.databricks.v1+cell": {
     "inputWidgets": {},
     "nuid": "40a146b0-6650-4bc3-ae3a-3bbfa1a0bc41",
     "showTitle": false,
     "title": ""
    }
   },
   "outputs": [
    {
     "data": {
      "text/html": [
       "<style scoped>\n",
       "  .ansiout {\n",
       "    display: block;\n",
       "    unicode-bidi: embed;\n",
       "    white-space: pre-wrap;\n",
       "    word-wrap: break-word;\n",
       "    word-break: break-all;\n",
       "    font-family: \"Source Code Pro\", \"Menlo\", monospace;;\n",
       "    font-size: 13px;\n",
       "    color: #555;\n",
       "    margin-left: 4px;\n",
       "    line-height: 19px;\n",
       "  }\n",
       "</style>\n",
       "<div class=\"ansiout\"></div>"
      ]
     },
     "metadata": {
      "application/vnd.databricks.v1+output": {
       "addedWidgets": {},
       "arguments": {},
       "data": "<div class=\"ansiout\"></div>",
       "datasetInfos": [],
       "metadata": {},
       "removedWidgets": [],
       "type": "html"
      }
     },
     "output_type": "display_data"
    }
   ],
   "source": [
    "# Create ALS model\n",
    "als = ALS(userCol=\"userId\", itemCol=\"movieId\", ratingCol=\"rating\", coldStartStrategy=\"drop\", nonnegative=True)\n",
    "\n",
    "# Create a pipleline\n",
    "pipeline = Pipeline(stages=[als])\n",
    "\n",
    "# Create a param_grid of hyperparameters for tuning the model\n",
    "param_grid = ParamGridBuilder()\\\n",
    "                    .addGrid(als.rank, [40, 50, 60])\\\n",
    "                    .addGrid(als.maxIter, [40])\\\n",
    "                    .addGrid(als.regParam, [0.1])\\\n",
    "                    .build()\n",
    "\n",
    "# Set model evaluation metirc (evaluator) as RMSE\n",
    "evaluator = RegressionEvaluator(metricName=\"rmse\", labelCol=\"rating\", predictionCol=\"prediction\")\n",
    "\n",
    "# Build the model with cross validation setup\n",
    "model_cv = CrossValidator(estimator=pipeline, estimatorParamMaps=param_grid,\n",
    "                          evaluator=evaluator, numFolds=3)\n",
    "\n",
    "# Fit the model with train_df\n",
    "model = model_cv.fit(train_df)"
   ]
  },
  {
   "cell_type": "code",
   "execution_count": 0,
   "metadata": {
    "application/vnd.databricks.v1+cell": {
     "inputWidgets": {},
     "nuid": "8d4cbefe-2bc9-48fb-8424-34390d2ea45e",
     "showTitle": false,
     "title": ""
    }
   },
   "outputs": [
    {
     "data": {
      "text/html": [
       "<style scoped>\n",
       "  .ansiout {\n",
       "    display: block;\n",
       "    unicode-bidi: embed;\n",
       "    white-space: pre-wrap;\n",
       "    word-wrap: break-word;\n",
       "    word-break: break-all;\n",
       "    font-family: \"Source Code Pro\", \"Menlo\", monospace;;\n",
       "    font-size: 13px;\n",
       "    color: #555;\n",
       "    margin-left: 4px;\n",
       "    line-height: 19px;\n",
       "  }\n",
       "</style>\n",
       "<div class=\"ansiout\">Best Model Hyperparameters:\n",
       " rank = 60\n",
       " MaxIter = 40\n",
       " RegParam = 0.1\n",
       "</div>"
      ]
     },
     "metadata": {
      "application/vnd.databricks.v1+output": {
       "addedWidgets": {},
       "arguments": {},
       "data": "<div class=\"ansiout\">Best Model Hyperparameters:\n rank = 60\n MaxIter = 40\n RegParam = 0.1\n</div>",
       "datasetInfos": [],
       "metadata": {},
       "removedWidgets": [],
       "type": "html"
      }
     },
     "output_type": "display_data"
    }
   ],
   "source": [
    "# Check best model hyperparameters\n",
    "\n",
    "bestModel = model.bestModel.stages[0]\n",
    "\n",
    "bestModel_rank = bestModel.rank\n",
    "bestModel_MaxIter = bestModel._java_obj.parent().getMaxIter()\n",
    "bestModel_RegParam = bestModel._java_obj.parent().getRegParam()\n",
    "\n",
    "print(\"Best Model Hyperparameters:\")\n",
    "print(f\" rank = {bestModel_rank}\")\n",
    "print(f\" MaxIter = {bestModel_MaxIter}\")\n",
    "print(f\" RegParam = {bestModel_RegParam}\")"
   ]
  },
  {
   "cell_type": "markdown",
   "metadata": {
    "application/vnd.databricks.v1+cell": {
     "inputWidgets": {},
     "nuid": "e8eab889-f70c-456d-b7c5-5cd8cd43b7f7",
     "showTitle": false,
     "title": ""
    }
   },
   "source": [
    "#### Re-run Step4: Predict movie ratings for all users using the ALS model (using the updated Best Model Hyperparameters)"
   ]
  },
  {
   "cell_type": "code",
   "execution_count": 0,
   "metadata": {
    "application/vnd.databricks.v1+cell": {
     "inputWidgets": {},
     "nuid": "3463dd8a-682e-49d7-95ec-25c3f2687103",
     "showTitle": false,
     "title": ""
    }
   },
   "outputs": [
    {
     "data": {
      "text/html": [
       "<style scoped>\n",
       "  .ansiout {\n",
       "    display: block;\n",
       "    unicode-bidi: embed;\n",
       "    white-space: pre-wrap;\n",
       "    word-wrap: break-word;\n",
       "    word-break: break-all;\n",
       "    font-family: \"Source Code Pro\", \"Menlo\", monospace;;\n",
       "    font-size: 13px;\n",
       "    color: #555;\n",
       "    margin-left: 4px;\n",
       "    line-height: 19px;\n",
       "  }\n",
       "</style>\n",
       "<div class=\"ansiout\">+------+-------+------+----------+\n",
       "userId|movieId|rating|prediction|\n",
       "+------+-------+------+----------+\n",
       "   148|   1580|   4.0| 3.8960123|\n",
       "   243|   1580|   3.0| 3.4362233|\n",
       "   243|   1645|   3.0| 3.1771646|\n",
       "   243|   2122|   2.0|  2.194261|\n",
       "   516|   1088|   3.0|  3.626713|\n",
       "+------+-------+------+----------+\n",
       "only showing top 5 rows\n",
       "\n",
       "</div>"
      ]
     },
     "metadata": {
      "application/vnd.databricks.v1+output": {
       "addedWidgets": {},
       "arguments": {},
       "data": "<div class=\"ansiout\">+------+-------+------+----------+\n|userId|movieId|rating|prediction|\n+------+-------+------+----------+\n|   148|   1580|   4.0| 3.8960123|\n|   243|   1580|   3.0| 3.4362233|\n|   243|   1645|   3.0| 3.1771646|\n|   243|   2122|   2.0|  2.194261|\n|   516|   1088|   3.0|  3.626713|\n+------+-------+------+----------+\nonly showing top 5 rows\n\n</div>",
       "datasetInfos": [],
       "metadata": {},
       "removedWidgets": [],
       "type": "html"
      }
     },
     "output_type": "display_data"
    }
   ],
   "source": [
    "# Generate predictions for all user ratings using the best ALS model\n",
    "\n",
    "pred_df = bestModel.transform(test_df)\n",
    "\n",
    "pred_df.show(5)"
   ]
  },
  {
   "cell_type": "code",
   "execution_count": 0,
   "metadata": {
    "application/vnd.databricks.v1+cell": {
     "inputWidgets": {},
     "nuid": "3debdac8-711a-48c3-b2ee-0507e3128ec0",
     "showTitle": false,
     "title": ""
    }
   },
   "outputs": [
    {
     "data": {
      "text/html": [
       "<style scoped>\n",
       "  .ansiout {\n",
       "    display: block;\n",
       "    unicode-bidi: embed;\n",
       "    white-space: pre-wrap;\n",
       "    word-wrap: break-word;\n",
       "    word-break: break-all;\n",
       "    font-family: \"Source Code Pro\", \"Menlo\", monospace;;\n",
       "    font-size: 13px;\n",
       "    color: #555;\n",
       "    margin-left: 4px;\n",
       "    line-height: 19px;\n",
       "  }\n",
       "</style>\n",
       "<div class=\"ansiout\">+------+-------+------+----------+\n",
       "userId|movieId|rating|prediction|\n",
       "+------+-------+------+----------+\n",
       "   671|    356|   5.0| 3.9422102|\n",
       "   671|   2291|   5.0| 3.9356384|\n",
       "   671|   1196|   5.0| 4.3879743|\n",
       "   671|   2804|   5.0| 4.1101136|\n",
       "   671|   4973|   4.5| 4.2543526|\n",
       "+------+-------+------+----------+\n",
       "\n",
       "</div>"
      ]
     },
     "metadata": {
      "application/vnd.databricks.v1+output": {
       "addedWidgets": {},
       "arguments": {},
       "data": "<div class=\"ansiout\">+------+-------+------+----------+\n|userId|movieId|rating|prediction|\n+------+-------+------+----------+\n|   671|    356|   5.0| 3.9422102|\n|   671|   2291|   5.0| 3.9356384|\n|   671|   1196|   5.0| 4.3879743|\n|   671|   2804|   5.0| 4.1101136|\n|   671|   4973|   4.5| 4.2543526|\n+------+-------+------+----------+\n\n</div>",
       "datasetInfos": [],
       "metadata": {},
       "removedWidgets": [],
       "type": "html"
      }
     },
     "output_type": "display_data"
    }
   ],
   "source": [
    "# Sort pred_df by \"userId\" and \"rating\" in descending order\n",
    "\n",
    "pred_df.sort(\"userId\",\"rating\", ascending=False).limit(5).show()"
   ]
  },
  {
   "cell_type": "markdown",
   "metadata": {
    "application/vnd.databricks.v1+cell": {
     "inputWidgets": {},
     "nuid": "9f2925c0-3a38-4806-973b-aba04e72523f",
     "showTitle": false,
     "title": ""
    }
   },
   "source": [
    "#### Re-run Step 5: Check performance metrics of the model (using the updated Best Model Hyperparameters)"
   ]
  },
  {
   "cell_type": "code",
   "execution_count": 0,
   "metadata": {
    "application/vnd.databricks.v1+cell": {
     "inputWidgets": {},
     "nuid": "bf365360-f670-4ff0-ae57-8a4020a1ff7e",
     "showTitle": false,
     "title": ""
    }
   },
   "outputs": [
    {
     "data": {
      "text/html": [
       "<style scoped>\n",
       "  .ansiout {\n",
       "    display: block;\n",
       "    unicode-bidi: embed;\n",
       "    white-space: pre-wrap;\n",
       "    word-wrap: break-word;\n",
       "    word-break: break-all;\n",
       "    font-family: \"Source Code Pro\", \"Menlo\", monospace;;\n",
       "    font-size: 13px;\n",
       "    color: #555;\n",
       "    margin-left: 4px;\n",
       "    line-height: 19px;\n",
       "  }\n",
       "</style>\n",
       "<div class=\"ansiout\">RMSE = 0.9022\n",
       "</div>"
      ]
     },
     "metadata": {
      "application/vnd.databricks.v1+output": {
       "addedWidgets": {},
       "arguments": {},
       "data": "<div class=\"ansiout\">RMSE = 0.9022\n</div>",
       "datasetInfos": [],
       "metadata": {},
       "removedWidgets": [],
       "type": "html"
      }
     },
     "output_type": "display_data"
    }
   ],
   "source": [
    "# Check RMSE evaluation metric for the model predictions\n",
    "\n",
    "rmse = evaluator.evaluate(pred_df)\n",
    "print(f\"RMSE = {rmse:.4f}\")"
   ]
  },
  {
   "cell_type": "markdown",
   "metadata": {
    "application/vnd.databricks.v1+cell": {
     "inputWidgets": {},
     "nuid": "291ce602-ac78-4858-a429-c5958014dd96",
     "showTitle": false,
     "title": ""
    }
   },
   "source": [
    "### Step 6: Generate movie recommendations for existing users"
   ]
  },
  {
   "cell_type": "code",
   "execution_count": 0,
   "metadata": {
    "application/vnd.databricks.v1+cell": {
     "inputWidgets": {},
     "nuid": "e5bd364a-1e78-40eb-a0ec-32d328adeab1",
     "showTitle": false,
     "title": ""
    }
   },
   "outputs": [
    {
     "data": {
      "text/html": [
       "<style scoped>\n",
       "  .ansiout {\n",
       "    display: block;\n",
       "    unicode-bidi: embed;\n",
       "    white-space: pre-wrap;\n",
       "    word-wrap: break-word;\n",
       "    word-break: break-all;\n",
       "    font-family: \"Source Code Pro\", \"Menlo\", monospace;;\n",
       "    font-size: 13px;\n",
       "    color: #555;\n",
       "    margin-left: 4px;\n",
       "    line-height: 19px;\n",
       "  }\n",
       "</style>\n",
       "<div class=\"ansiout\">+------+--------------------+\n",
       "userId|     recommendations|\n",
       "+------+--------------------+\n",
       "     1|[{123, 3.5390694}...|\n",
       "     3|[{83359, 4.364339...|\n",
       "     5|[{106471, 4.70427...|\n",
       "     6|[{83411, 4.590722...|\n",
       "    12|[{3879, 4.913202}...|\n",
       "+------+--------------------+\n",
       "only showing top 5 rows\n",
       "\n",
       "</div>"
      ]
     },
     "metadata": {
      "application/vnd.databricks.v1+output": {
       "addedWidgets": {},
       "arguments": {},
       "data": "<div class=\"ansiout\">+------+--------------------+\n|userId|     recommendations|\n+------+--------------------+\n|     1|[{123, 3.5390694}...|\n|     3|[{83359, 4.364339...|\n|     5|[{106471, 4.70427...|\n|     6|[{83411, 4.590722...|\n|    12|[{3879, 4.913202}...|\n+------+--------------------+\nonly showing top 5 rows\n\n</div>",
       "datasetInfos": [],
       "metadata": {},
       "removedWidgets": [],
       "type": "html"
      }
     },
     "output_type": "display_data"
    }
   ],
   "source": [
    "# Generate top 10 movie recommendations for all users\n",
    "\n",
    "recommendations_all_10 = bestModel.recommendForAllUsers(10)\n",
    "recommendations_all_10.show(5)"
   ]
  },
  {
   "cell_type": "code",
   "execution_count": 0,
   "metadata": {
    "application/vnd.databricks.v1+cell": {
     "inputWidgets": {},
     "nuid": "a9d800a0-f4e0-48b0-b45c-c5eb22e817f7",
     "showTitle": false,
     "title": ""
    }
   },
   "outputs": [
    {
     "data": {
      "text/html": [
       "<style scoped>\n",
       "  .ansiout {\n",
       "    display: block;\n",
       "    unicode-bidi: embed;\n",
       "    white-space: pre-wrap;\n",
       "    word-wrap: break-word;\n",
       "    word-break: break-all;\n",
       "    font-family: \"Source Code Pro\", \"Menlo\", monospace;;\n",
       "    font-size: 13px;\n",
       "    color: #555;\n",
       "    margin-left: 4px;\n",
       "    line-height: 19px;\n",
       "  }\n",
       "</style>\n",
       "<div class=\"ansiout\">+------+--------------------+\n",
       "userId|     recommendations|\n",
       "+------+--------------------+\n",
       "     1|[{123, 3.5390694}...|\n",
       "+------+--------------------+\n",
       "\n",
       "</div>"
      ]
     },
     "metadata": {
      "application/vnd.databricks.v1+output": {
       "addedWidgets": {},
       "arguments": {},
       "data": "<div class=\"ansiout\">+------+--------------------+\n|userId|     recommendations|\n+------+--------------------+\n|     1|[{123, 3.5390694}...|\n+------+--------------------+\n\n</div>",
       "datasetInfos": [],
       "metadata": {},
       "removedWidgets": [],
       "type": "html"
      }
     },
     "output_type": "display_data"
    }
   ],
   "source": [
    "# Check top 10 movie recommendations for userID = 1\n",
    "\n",
    "recommendations_all_10.filter(recommendations_all_10.userId == 1).show()"
   ]
  },
  {
   "cell_type": "code",
   "execution_count": 0,
   "metadata": {
    "application/vnd.databricks.v1+cell": {
     "inputWidgets": {},
     "nuid": "85307a88-4422-4a0f-8111-d45753731d52",
     "showTitle": false,
     "title": ""
    }
   },
   "outputs": [
    {
     "data": {
      "text/html": [
       "<style scoped>\n",
       "  .ansiout {\n",
       "    display: block;\n",
       "    unicode-bidi: embed;\n",
       "    white-space: pre-wrap;\n",
       "    word-wrap: break-word;\n",
       "    word-break: break-all;\n",
       "    font-family: \"Source Code Pro\", \"Menlo\", monospace;;\n",
       "    font-size: 13px;\n",
       "    color: #555;\n",
       "    margin-left: 4px;\n",
       "    line-height: 19px;\n",
       "  }\n",
       "</style>\n",
       "<div class=\"ansiout\">+------+-------+-----------+\n",
       "userId|movieId|pred_rating|\n",
       "+------+-------+-----------+\n",
       "     1|    123|  3.5390694|\n",
       "     1|    858|  3.4909818|\n",
       "     1|   2959|   3.468454|\n",
       "     1|    232|  3.4295225|\n",
       "     1|   1131|   3.379272|\n",
       "     1|   5269|  3.3775406|\n",
       "     1|    750|  3.3734868|\n",
       "     1|  26587|   3.365525|\n",
       "     1|     50|  3.3597205|\n",
       "     1|   1859|  3.3580768|\n",
       "+------+-------+-----------+\n",
       "\n",
       "</div>"
      ]
     },
     "metadata": {
      "application/vnd.databricks.v1+output": {
       "addedWidgets": {},
       "arguments": {},
       "data": "<div class=\"ansiout\">+------+-------+-----------+\n|userId|movieId|pred_rating|\n+------+-------+-----------+\n|     1|    123|  3.5390694|\n|     1|    858|  3.4909818|\n|     1|   2959|   3.468454|\n|     1|    232|  3.4295225|\n|     1|   1131|   3.379272|\n|     1|   5269|  3.3775406|\n|     1|    750|  3.3734868|\n|     1|  26587|   3.365525|\n|     1|     50|  3.3597205|\n|     1|   1859|  3.3580768|\n+------+-------+-----------+\n\n</div>",
       "datasetInfos": [],
       "metadata": {},
       "removedWidgets": [],
       "type": "html"
      }
     },
     "output_type": "display_data"
    }
   ],
   "source": [
    "# Unpack the list of top 10 movieIds from recommendations column using <explode> function\n",
    "\n",
    "recommendations_user1 = recommendations_all_10.filter(recommendations_all_10.userId == 1)\n",
    "\n",
    "recommendations_user1.registerTempTable(\"ALS_recommendations_user1\") \n",
    " \n",
    "recommendations_user1_exploded = spark.sql(\"SELECT userId, recommendation.movieId AS movieId,\\\n",
    "                               recommendation.rating AS pred_rating \\\n",
    "                               FROM ALS_recommendations_user1 \\\n",
    "                               LATERAL VIEW explode(recommendations) exploded_table \\\n",
    "                               AS recommendation\")\n",
    "\n",
    "recommendations_user1_exploded.show() "
   ]
  },
  {
   "cell_type": "code",
   "execution_count": 0,
   "metadata": {
    "application/vnd.databricks.v1+cell": {
     "inputWidgets": {},
     "nuid": "4c038f7f-d377-45ec-afba-3b6b4cbf356b",
     "showTitle": false,
     "title": ""
    }
   },
   "outputs": [
    {
     "data": {
      "text/html": [
       "<style scoped>\n",
       "  .ansiout {\n",
       "    display: block;\n",
       "    unicode-bidi: embed;\n",
       "    white-space: pre-wrap;\n",
       "    word-wrap: break-word;\n",
       "    word-break: break-all;\n",
       "    font-family: \"Source Code Pro\", \"Menlo\", monospace;;\n",
       "    font-size: 13px;\n",
       "    color: #555;\n",
       "    margin-left: 4px;\n",
       "    line-height: 19px;\n",
       "  }\n",
       "</style>\n",
       "<div class=\"ansiout\">+-------+------+-----------+--------------------+--------------------+\n",
       "movieId|userId|pred_rating|               title|              genres|\n",
       "+-------+------+-----------+--------------------+--------------------+\n",
       "    123|     1|  3.5390694|Chungking Express...|Drama|Mystery|Rom...|\n",
       "    858|     1|  3.4909818|Godfather, The (1...|         Crime|Drama|\n",
       "   2959|     1|   3.468454|   Fight Club (1999)|Action|Crime|Dram...|\n",
       "    232|     1|  3.4295225|Eat Drink Man Wom...|Comedy|Drama|Romance|\n",
       "   1131|     1|   3.379272|Jean de Florette ...|       Drama|Mystery|\n",
       "   5269|     1|  3.3775406|Piano Teacher, Th...|               Drama|\n",
       "    750|     1|  3.3734868|Dr. Strangelove o...|          Comedy|War|\n",
       "  26587|     1|   3.365525|Decalogue, The (D...| Crime|Drama|Romance|\n",
       "     50|     1|  3.3597205|Usual Suspects, T...|Crime|Mystery|Thr...|\n",
       "   1859|     1|  3.3580768|Taste of Cherry (...|               Drama|\n",
       "+-------+------+-----------+--------------------+--------------------+\n",
       "\n",
       "</div>"
      ]
     },
     "metadata": {
      "application/vnd.databricks.v1+output": {
       "addedWidgets": {},
       "arguments": {},
       "data": "<div class=\"ansiout\">+-------+------+-----------+--------------------+--------------------+\n|movieId|userId|pred_rating|               title|              genres|\n+-------+------+-----------+--------------------+--------------------+\n|    123|     1|  3.5390694|Chungking Express...|Drama|Mystery|Rom...|\n|    858|     1|  3.4909818|Godfather, The (1...|         Crime|Drama|\n|   2959|     1|   3.468454|   Fight Club (1999)|Action|Crime|Dram...|\n|    232|     1|  3.4295225|Eat Drink Man Wom...|Comedy|Drama|Romance|\n|   1131|     1|   3.379272|Jean de Florette ...|       Drama|Mystery|\n|   5269|     1|  3.3775406|Piano Teacher, Th...|               Drama|\n|    750|     1|  3.3734868|Dr. Strangelove o...|          Comedy|War|\n|  26587|     1|   3.365525|Decalogue, The (D...| Crime|Drama|Romance|\n|     50|     1|  3.3597205|Usual Suspects, T...|Crime|Mystery|Thr...|\n|   1859|     1|  3.3580768|Taste of Cherry (...|               Drama|\n+-------+------+-----------+--------------------+--------------------+\n\n</div>",
       "datasetInfos": [],
       "metadata": {},
       "removedWidgets": [],
       "type": "html"
      }
     },
     "output_type": "display_data"
    }
   ],
   "source": [
    "# Add movie info (movie title and genres) to top 10 movie recommendations data (with movieIds and ratings)\n",
    "\n",
    "recommendations_user1_exploded.join(movies, [\"movieId\"], \"left\").show()"
   ]
  },
  {
   "cell_type": "markdown",
   "metadata": {
    "application/vnd.databricks.v1+cell": {
     "inputWidgets": {},
     "nuid": "bdf15b44-9159-4c95-adfe-6f5b448fb78d",
     "showTitle": false,
     "title": ""
    }
   },
   "source": [
    "### Step 7: Generate movie recommendations for a new user"
   ]
  },
  {
   "cell_type": "markdown",
   "metadata": {
    "application/vnd.databricks.v1+cell": {
     "inputWidgets": {},
     "nuid": "f5b3875d-7417-449c-bd92-4d5ff5d1a3cc",
     "showTitle": false,
     "title": ""
    }
   },
   "source": [
    "#### Step 7.1: Add new user data to the existing ratings data"
   ]
  },
  {
   "cell_type": "code",
   "execution_count": 0,
   "metadata": {
    "application/vnd.databricks.v1+cell": {
     "inputWidgets": {},
     "nuid": "fce3a6b6-ad8f-4740-a6c1-b9eeb3c2f192",
     "showTitle": false,
     "title": ""
    }
   },
   "outputs": [
    {
     "data": {
      "text/html": [
       "<style scoped>\n",
       "  .ansiout {\n",
       "    display: block;\n",
       "    unicode-bidi: embed;\n",
       "    white-space: pre-wrap;\n",
       "    word-wrap: break-word;\n",
       "    word-break: break-all;\n",
       "    font-family: \"Source Code Pro\", \"Menlo\", monospace;;\n",
       "    font-size: 13px;\n",
       "    color: #555;\n",
       "    margin-left: 4px;\n",
       "    line-height: 19px;\n",
       "  }\n",
       "</style>\n",
       "<div class=\"ansiout\">+------+-------+------+\n",
       "userId|movieId|rating|\n",
       "+------+-------+------+\n",
       "   672|      1|   5.0|\n",
       "   672|    364|   5.0|\n",
       "   672|   4306|   5.0|\n",
       "   672|   6377|   5.0|\n",
       "+------+-------+------+\n",
       "\n",
       "</div>"
      ]
     },
     "metadata": {
      "application/vnd.databricks.v1+output": {
       "addedWidgets": {},
       "arguments": {},
       "data": "<div class=\"ansiout\">+------+-------+------+\n|userId|movieId|rating|\n+------+-------+------+\n|   672|      1|   5.0|\n|   672|    364|   5.0|\n|   672|   4306|   5.0|\n|   672|   6377|   5.0|\n+------+-------+------+\n\n</div>",
       "datasetInfos": [],
       "metadata": {},
       "removedWidgets": [],
       "type": "html"
      }
     },
     "output_type": "display_data"
    }
   ],
   "source": [
    "# Let's assume a new user's favorite movies are the following:\n",
    "# Toy Story (1995), Lion King, The (1994), Shrek (2001), Finding Nemo (2003) \n",
    "# which can be converted as a list of movieIds as below:\n",
    "new_user_movieIds = [1, 364, 4306, 6377]\n",
    "\n",
    "# set new userId as the highest userId value among the existing users + 1\n",
    "new_userId = ratings.agg({\"userId\": \"max\"}).first()[0] + 1\n",
    "rating_max = 5.0\n",
    "\n",
    "# Create a list of new user's movie rating data\n",
    "new_user_ratings = [(new_userId, movieId, rating_max) for movieId in new_user_movieIds]\n",
    "\n",
    "# ratings.columns = ['userId', 'movieId', 'rating']\n",
    "\n",
    "# Create a new dataframe that contains new user's ratings\n",
    "new_user_df = spark.createDataFrame(new_user_ratings, ratings.columns)\n",
    "new_user_df.show()"
   ]
  },
  {
   "cell_type": "code",
   "execution_count": 0,
   "metadata": {
    "application/vnd.databricks.v1+cell": {
     "inputWidgets": {},
     "nuid": "1ca63c84-5a87-4072-a34b-3e673da74dfd",
     "showTitle": false,
     "title": ""
    }
   },
   "outputs": [
    {
     "data": {
      "text/html": [
       "<style scoped>\n",
       "  .ansiout {\n",
       "    display: block;\n",
       "    unicode-bidi: embed;\n",
       "    white-space: pre-wrap;\n",
       "    word-wrap: break-word;\n",
       "    word-break: break-all;\n",
       "    font-family: \"Source Code Pro\", \"Menlo\", monospace;;\n",
       "    font-size: 13px;\n",
       "    color: #555;\n",
       "    margin-left: 4px;\n",
       "    line-height: 19px;\n",
       "  }\n",
       "</style>\n",
       "<div class=\"ansiout\">+------+-------+------+\n",
       "userId|movieId|rating|\n",
       "+------+-------+------+\n",
       "   672|      1|   5.0|\n",
       "   672|    364|   5.0|\n",
       "   672|   4306|   5.0|\n",
       "   672|   6377|   5.0|\n",
       "+------+-------+------+\n",
       "\n",
       "</div>"
      ]
     },
     "metadata": {
      "application/vnd.databricks.v1+output": {
       "addedWidgets": {},
       "arguments": {},
       "data": "<div class=\"ansiout\">+------+-------+------+\n|userId|movieId|rating|\n+------+-------+------+\n|   672|      1|   5.0|\n|   672|    364|   5.0|\n|   672|   4306|   5.0|\n|   672|   6377|   5.0|\n+------+-------+------+\n\n</div>",
       "datasetInfos": [],
       "metadata": {},
       "removedWidgets": [],
       "type": "html"
      }
     },
     "output_type": "display_data"
    }
   ],
   "source": [
    "# Add new_user_df to the existing ratings data\n",
    "\n",
    "ratings_all_new = ratings.union(new_user_df)\n",
    "\n",
    "ratings_all_new.filter(ratings_all_new.userId == new_userId).show()"
   ]
  },
  {
   "cell_type": "markdown",
   "metadata": {
    "application/vnd.databricks.v1+cell": {
     "inputWidgets": {},
     "nuid": "00835216-8357-4631-8a10-077f280ec2e7",
     "showTitle": false,
     "title": ""
    }
   },
   "source": [
    "#### Step 7.2: Split movie ratings data into training and testing datasets"
   ]
  },
  {
   "cell_type": "code",
   "execution_count": 0,
   "metadata": {
    "application/vnd.databricks.v1+cell": {
     "inputWidgets": {},
     "nuid": "72a17c3c-026a-4ca1-8a87-246433412b96",
     "showTitle": false,
     "title": ""
    }
   },
   "outputs": [
    {
     "data": {
      "text/html": [
       "<style scoped>\n",
       "  .ansiout {\n",
       "    display: block;\n",
       "    unicode-bidi: embed;\n",
       "    white-space: pre-wrap;\n",
       "    word-wrap: break-word;\n",
       "    word-break: break-all;\n",
       "    font-family: \"Source Code Pro\", \"Menlo\", monospace;;\n",
       "    font-size: 13px;\n",
       "    color: #555;\n",
       "    margin-left: 4px;\n",
       "    line-height: 19px;\n",
       "  }\n",
       "</style>\n",
       "<div class=\"ansiout\"></div>"
      ]
     },
     "metadata": {
      "application/vnd.databricks.v1+output": {
       "addedWidgets": {},
       "arguments": {},
       "data": "<div class=\"ansiout\"></div>",
       "datasetInfos": [],
       "metadata": {},
       "removedWidgets": [],
       "type": "html"
      }
     },
     "output_type": "display_data"
    }
   ],
   "source": [
    "train_df, test_df = ratings_all_new.randomSplit([0.8,0.2], seed = 1234)"
   ]
  },
  {
   "cell_type": "markdown",
   "metadata": {
    "application/vnd.databricks.v1+cell": {
     "inputWidgets": {},
     "nuid": "088766f5-6b24-4ab4-90da-7305c105aa51",
     "showTitle": false,
     "title": ""
    }
   },
   "source": [
    "#### Step 7.3: Build ALS machine learning model to predict users movie ratings"
   ]
  },
  {
   "cell_type": "code",
   "execution_count": 0,
   "metadata": {
    "application/vnd.databricks.v1+cell": {
     "inputWidgets": {},
     "nuid": "005bb74a-cf3d-4d3c-98e0-25e65e489245",
     "showTitle": false,
     "title": ""
    }
   },
   "outputs": [
    {
     "data": {
      "text/html": [
       "<style scoped>\n",
       "  .ansiout {\n",
       "    display: block;\n",
       "    unicode-bidi: embed;\n",
       "    white-space: pre-wrap;\n",
       "    word-wrap: break-word;\n",
       "    word-break: break-all;\n",
       "    font-family: \"Source Code Pro\", \"Menlo\", monospace;;\n",
       "    font-size: 13px;\n",
       "    color: #555;\n",
       "    margin-left: 4px;\n",
       "    line-height: 19px;\n",
       "  }\n",
       "</style>\n",
       "<div class=\"ansiout\">/databricks/spark/python/pyspark/ml/util.py:838: UserWarning: Cannot find mlflow module. To enable MLflow logging, install mlflow from PyPI.\n",
       "  warnings.warn(_MLflowInstrumentation._NO_MLFLOW_WARNING)\n",
       "</div>"
      ]
     },
     "metadata": {
      "application/vnd.databricks.v1+output": {
       "addedWidgets": {},
       "arguments": {},
       "data": "<div class=\"ansiout\">/databricks/spark/python/pyspark/ml/util.py:838: UserWarning: Cannot find mlflow module. To enable MLflow logging, install mlflow from PyPI.\n  warnings.warn(_MLflowInstrumentation._NO_MLFLOW_WARNING)\n</div>",
       "datasetInfos": [],
       "metadata": {},
       "removedWidgets": [],
       "type": "html"
      }
     },
     "output_type": "display_data"
    }
   ],
   "source": [
    "## Rebuild ALS model with updated ratings datasets that include new user's ratings\n",
    "\n",
    "als = ALS(userCol=\"userId\", itemCol=\"movieId\", ratingCol=\"rating\", coldStartStrategy=\"drop\", nonnegative=True)\n",
    "\n",
    "pipeline = Pipeline(stages=[als])\n",
    "\n",
    "# param_grid contains only the bestModel hyperparameters that were obtained above\n",
    "param_grid = ParamGridBuilder()\\\n",
    "                    .addGrid(als.rank, [bestModel_rank])\\\n",
    "                    .addGrid(als.maxIter, [bestModel_MaxIter])\\\n",
    "                    .addGrid(als.regParam, [bestModel_RegParam])\\\n",
    "                    .build()\n",
    "\n",
    "# Set model evaluation metirc (evaluator) as RMSE\n",
    "evaluator = RegressionEvaluator(metricName=\"rmse\", labelCol=\"rating\", predictionCol=\"prediction\")\n",
    "\n",
    "# Build the model with cross validation setup\n",
    "model_cv = CrossValidator(estimator=pipeline, estimatorParamMaps=param_grid,\n",
    "                          evaluator=evaluator, numFolds=3)\n",
    "\n",
    "# Fit the model with train_df\n",
    "model = model_cv.fit(train_df)"
   ]
  },
  {
   "cell_type": "markdown",
   "metadata": {
    "application/vnd.databricks.v1+cell": {
     "inputWidgets": {},
     "nuid": "08662b21-7dd7-43f0-853f-150551f0bea0",
     "showTitle": false,
     "title": ""
    }
   },
   "source": [
    "#### Step 7.4: Predict movie ratings for all users using the ALS model"
   ]
  },
  {
   "cell_type": "code",
   "execution_count": 0,
   "metadata": {
    "application/vnd.databricks.v1+cell": {
     "inputWidgets": {},
     "nuid": "075e261a-9bc3-4a34-a672-efddfff86d83",
     "showTitle": false,
     "title": ""
    }
   },
   "outputs": [
    {
     "data": {
      "text/html": [
       "<style scoped>\n",
       "  .ansiout {\n",
       "    display: block;\n",
       "    unicode-bidi: embed;\n",
       "    white-space: pre-wrap;\n",
       "    word-wrap: break-word;\n",
       "    word-break: break-all;\n",
       "    font-family: \"Source Code Pro\", \"Menlo\", monospace;;\n",
       "    font-size: 13px;\n",
       "    color: #555;\n",
       "    margin-left: 4px;\n",
       "    line-height: 19px;\n",
       "  }\n",
       "</style>\n",
       "<div class=\"ansiout\">+------+-------+------+----------+\n",
       "userId|movieId|rating|prediction|\n",
       "+------+-------+------+----------+\n",
       "   463|   1959|   4.0|  3.630198|\n",
       "   463|   3175|   3.0| 3.2008274|\n",
       "   471|   1580|   3.0|   3.68009|\n",
       "   623|   1580|   3.5| 3.8037965|\n",
       "    85|    471|   3.0| 3.2861629|\n",
       "+------+-------+------+----------+\n",
       "only showing top 5 rows\n",
       "\n",
       "</div>"
      ]
     },
     "metadata": {
      "application/vnd.databricks.v1+output": {
       "addedWidgets": {},
       "arguments": {},
       "data": "<div class=\"ansiout\">+------+-------+------+----------+\n|userId|movieId|rating|prediction|\n+------+-------+------+----------+\n|   463|   1959|   4.0|  3.630198|\n|   463|   3175|   3.0| 3.2008274|\n|   471|   1580|   3.0|   3.68009|\n|   623|   1580|   3.5| 3.8037965|\n|    85|    471|   3.0| 3.2861629|\n+------+-------+------+----------+\nonly showing top 5 rows\n\n</div>",
       "datasetInfos": [],
       "metadata": {},
       "removedWidgets": [],
       "type": "html"
      }
     },
     "output_type": "display_data"
    }
   ],
   "source": [
    "# Generate predictions for all user ratings using the new ALS model\n",
    "\n",
    "pred_df = model.transform(test_df)\n",
    "\n",
    "pred_df.show(5)"
   ]
  },
  {
   "cell_type": "code",
   "execution_count": 0,
   "metadata": {
    "application/vnd.databricks.v1+cell": {
     "inputWidgets": {},
     "nuid": "938bd223-9fa9-4133-8127-5d5c7f5fb724",
     "showTitle": false,
     "title": ""
    }
   },
   "outputs": [
    {
     "data": {
      "text/html": [
       "<style scoped>\n",
       "  .ansiout {\n",
       "    display: block;\n",
       "    unicode-bidi: embed;\n",
       "    white-space: pre-wrap;\n",
       "    word-wrap: break-word;\n",
       "    word-break: break-all;\n",
       "    font-family: \"Source Code Pro\", \"Menlo\", monospace;;\n",
       "    font-size: 13px;\n",
       "    color: #555;\n",
       "    margin-left: 4px;\n",
       "    line-height: 19px;\n",
       "  }\n",
       "</style>\n",
       "<div class=\"ansiout\">+------+-------+------+----------+\n",
       "userId|movieId|rating|prediction|\n",
       "+------+-------+------+----------+\n",
       "   672|      1|   5.0| 4.7037663|\n",
       "   671|   2804|   5.0| 3.9212635|\n",
       "   671|   3114|   5.0| 3.9815636|\n",
       "   671|   1035|   5.0|  4.036878|\n",
       "   671|   2291|   5.0| 3.7752411|\n",
       "+------+-------+------+----------+\n",
       "\n",
       "</div>"
      ]
     },
     "metadata": {
      "application/vnd.databricks.v1+output": {
       "addedWidgets": {},
       "arguments": {},
       "data": "<div class=\"ansiout\">+------+-------+------+----------+\n|userId|movieId|rating|prediction|\n+------+-------+------+----------+\n|   672|      1|   5.0| 4.7037663|\n|   671|   2804|   5.0| 3.9212635|\n|   671|   3114|   5.0| 3.9815636|\n|   671|   1035|   5.0|  4.036878|\n|   671|   2291|   5.0| 3.7752411|\n+------+-------+------+----------+\n\n</div>",
       "datasetInfos": [],
       "metadata": {},
       "removedWidgets": [],
       "type": "html"
      }
     },
     "output_type": "display_data"
    }
   ],
   "source": [
    "# Sort pred_df by \"userId\" and \"rating\" in descending order\n",
    "\n",
    "pred_df.sort(\"userId\",\"rating\", ascending=False).limit(5).show()"
   ]
  },
  {
   "cell_type": "code",
   "execution_count": 0,
   "metadata": {
    "application/vnd.databricks.v1+cell": {
     "inputWidgets": {},
     "nuid": "6841c0ce-7dbc-4145-a595-a026b83bb9b7",
     "showTitle": false,
     "title": ""
    }
   },
   "outputs": [
    {
     "data": {
      "text/html": [
       "<style scoped>\n",
       "  .ansiout {\n",
       "    display: block;\n",
       "    unicode-bidi: embed;\n",
       "    white-space: pre-wrap;\n",
       "    word-wrap: break-word;\n",
       "    word-break: break-all;\n",
       "    font-family: \"Source Code Pro\", \"Menlo\", monospace;;\n",
       "    font-size: 13px;\n",
       "    color: #555;\n",
       "    margin-left: 4px;\n",
       "    line-height: 19px;\n",
       "  }\n",
       "</style>\n",
       "<div class=\"ansiout\">Best Model Hyperparameters:\n",
       " rank = 60\n",
       " MaxIter = 40\n",
       " RegParam = 0.1\n",
       "</div>"
      ]
     },
     "metadata": {
      "application/vnd.databricks.v1+output": {
       "addedWidgets": {},
       "arguments": {},
       "data": "<div class=\"ansiout\">Best Model Hyperparameters:\n rank = 60\n MaxIter = 40\n RegParam = 0.1\n</div>",
       "datasetInfos": [],
       "metadata": {},
       "removedWidgets": [],
       "type": "html"
      }
     },
     "output_type": "display_data"
    }
   ],
   "source": [
    "# Check best model hyperparameters, which should remain the same as given above\n",
    "\n",
    "bestModel = model.bestModel.stages[0]\n",
    "\n",
    "bestModel_rank = bestModel.rank\n",
    "bestModel_MaxIter = bestModel._java_obj.parent().getMaxIter()\n",
    "bestModel_RegParam = bestModel._java_obj.parent().getRegParam()\n",
    "\n",
    "print(\"Best Model Hyperparameters:\")\n",
    "print(f\" rank = {bestModel_rank}\")\n",
    "print(f\" MaxIter = {bestModel_MaxIter}\")\n",
    "print(f\" RegParam = {bestModel_RegParam}\")"
   ]
  },
  {
   "cell_type": "markdown",
   "metadata": {
    "application/vnd.databricks.v1+cell": {
     "inputWidgets": {},
     "nuid": "7cab85ca-aaad-4233-b3f0-9d5c725d19ac",
     "showTitle": false,
     "title": ""
    }
   },
   "source": [
    "#### Step 7.5: Check performance metrics of the model"
   ]
  },
  {
   "cell_type": "code",
   "execution_count": 0,
   "metadata": {
    "application/vnd.databricks.v1+cell": {
     "inputWidgets": {},
     "nuid": "52c84785-4051-4aab-ae11-737875f9a422",
     "showTitle": false,
     "title": ""
    }
   },
   "outputs": [
    {
     "data": {
      "text/html": [
       "<style scoped>\n",
       "  .ansiout {\n",
       "    display: block;\n",
       "    unicode-bidi: embed;\n",
       "    white-space: pre-wrap;\n",
       "    word-wrap: break-word;\n",
       "    word-break: break-all;\n",
       "    font-family: \"Source Code Pro\", \"Menlo\", monospace;;\n",
       "    font-size: 13px;\n",
       "    color: #555;\n",
       "    margin-left: 4px;\n",
       "    line-height: 19px;\n",
       "  }\n",
       "</style>\n",
       "<div class=\"ansiout\">RMSE = 0.9015\n",
       "</div>"
      ]
     },
     "metadata": {
      "application/vnd.databricks.v1+output": {
       "addedWidgets": {},
       "arguments": {},
       "data": "<div class=\"ansiout\">RMSE = 0.9015\n</div>",
       "datasetInfos": [],
       "metadata": {},
       "removedWidgets": [],
       "type": "html"
      }
     },
     "output_type": "display_data"
    }
   ],
   "source": [
    "# Check RMSE evaluation metric for the model predictions\n",
    "\n",
    "rmse = evaluator.evaluate(pred_df)\n",
    "print(f\"RMSE = {rmse:.4f}\")"
   ]
  },
  {
   "cell_type": "markdown",
   "metadata": {
    "application/vnd.databricks.v1+cell": {
     "inputWidgets": {},
     "nuid": "3d714ef7-5fc7-488d-92cc-16596d269409",
     "showTitle": false,
     "title": ""
    }
   },
   "source": [
    "#### Step 7.6: Generate movie recommendations for existing users"
   ]
  },
  {
   "cell_type": "code",
   "execution_count": 0,
   "metadata": {
    "application/vnd.databricks.v1+cell": {
     "inputWidgets": {},
     "nuid": "577e0f0f-210f-40c1-8c86-79f8b55b5963",
     "showTitle": false,
     "title": ""
    }
   },
   "outputs": [
    {
     "data": {
      "text/html": [
       "<style scoped>\n",
       "  .ansiout {\n",
       "    display: block;\n",
       "    unicode-bidi: embed;\n",
       "    white-space: pre-wrap;\n",
       "    word-wrap: break-word;\n",
       "    word-break: break-all;\n",
       "    font-family: \"Source Code Pro\", \"Menlo\", monospace;;\n",
       "    font-size: 13px;\n",
       "    color: #555;\n",
       "    margin-left: 4px;\n",
       "    line-height: 19px;\n",
       "  }\n",
       "</style>\n",
       "<div class=\"ansiout\">+------+--------------------+\n",
       "userId|     recommendations|\n",
       "+------+--------------------+\n",
       "     1|[{2563, 3.572302}...|\n",
       "     3|[{59684, 4.423637...|\n",
       "     5|[{59684, 4.63246}...|\n",
       "     6|[{67504, 5.007091...|\n",
       "    12|[{3879, 4.8949223...|\n",
       "+------+--------------------+\n",
       "only showing top 5 rows\n",
       "\n",
       "</div>"
      ]
     },
     "metadata": {
      "application/vnd.databricks.v1+output": {
       "addedWidgets": {},
       "arguments": {},
       "data": "<div class=\"ansiout\">+------+--------------------+\n|userId|     recommendations|\n+------+--------------------+\n|     1|[{2563, 3.572302}...|\n|     3|[{59684, 4.423637...|\n|     5|[{59684, 4.63246}...|\n|     6|[{67504, 5.007091...|\n|    12|[{3879, 4.8949223...|\n+------+--------------------+\nonly showing top 5 rows\n\n</div>",
       "datasetInfos": [],
       "metadata": {},
       "removedWidgets": [],
       "type": "html"
      }
     },
     "output_type": "display_data"
    }
   ],
   "source": [
    "# Generate top 10 movie recommendations for all users\n",
    "\n",
    "recommendations_all_10 = bestModel.recommendForAllUsers(10)\n",
    "recommendations_all_10.show(5)"
   ]
  },
  {
   "cell_type": "markdown",
   "metadata": {
    "application/vnd.databricks.v1+cell": {
     "inputWidgets": {},
     "nuid": "cf2bac65-eae7-4e73-a28a-4ff0c5c60b08",
     "showTitle": false,
     "title": ""
    }
   },
   "source": [
    "#### Step 7.7: Retrieve movie recommendations for the new user"
   ]
  },
  {
   "cell_type": "code",
   "execution_count": 0,
   "metadata": {
    "application/vnd.databricks.v1+cell": {
     "inputWidgets": {},
     "nuid": "407f63ba-ca43-46cf-9cc1-60e910c957e6",
     "showTitle": false,
     "title": ""
    }
   },
   "outputs": [
    {
     "data": {
      "text/html": [
       "<style scoped>\n",
       "  .ansiout {\n",
       "    display: block;\n",
       "    unicode-bidi: embed;\n",
       "    white-space: pre-wrap;\n",
       "    word-wrap: break-word;\n",
       "    word-break: break-all;\n",
       "    font-family: \"Source Code Pro\", \"Menlo\", monospace;;\n",
       "    font-size: 13px;\n",
       "    color: #555;\n",
       "    margin-left: 4px;\n",
       "    line-height: 19px;\n",
       "  }\n",
       "</style>\n",
       "<div class=\"ansiout\">+------+-------+-----------+\n",
       "userId|movieId|pred_rating|\n",
       "+------+-------+-----------+\n",
       "   672|  67504|   5.357431|\n",
       "   672|  83411|   5.357431|\n",
       "   672|  83318|   5.357431|\n",
       "   672|    527|  5.1312346|\n",
       "   672|  59684|   5.086157|\n",
       "   672|  54328|  5.0745444|\n",
       "   672|  31435|   5.051767|\n",
       "   672|   1148|   4.985118|\n",
       "   672|   4306|   4.983896|\n",
       "   672|    905|    4.95656|\n",
       "+------+-------+-----------+\n",
       "\n",
       "</div>"
      ]
     },
     "metadata": {
      "application/vnd.databricks.v1+output": {
       "addedWidgets": {},
       "arguments": {},
       "data": "<div class=\"ansiout\">+------+-------+-----------+\n|userId|movieId|pred_rating|\n+------+-------+-----------+\n|   672|  67504|   5.357431|\n|   672|  83411|   5.357431|\n|   672|  83318|   5.357431|\n|   672|    527|  5.1312346|\n|   672|  59684|   5.086157|\n|   672|  54328|  5.0745444|\n|   672|  31435|   5.051767|\n|   672|   1148|   4.985118|\n|   672|   4306|   4.983896|\n|   672|    905|    4.95656|\n+------+-------+-----------+\n\n</div>",
       "datasetInfos": [],
       "metadata": {},
       "removedWidgets": [],
       "type": "html"
      }
     },
     "output_type": "display_data"
    }
   ],
   "source": [
    "# Unpack the list of top 10 movieIds from recommendations column using <explode> function\n",
    "\n",
    "recommendations_new_user = recommendations_all_10.filter(recommendations_all_10.userId == new_userId)\n",
    "\n",
    "recommendations_new_user.registerTempTable(\"ALS_recommendations_new_user\") \n",
    " \n",
    "recommendations_new_user_exploded = spark.sql(\"SELECT userId, recommendation.movieId AS movieId,\\\n",
    "                               recommendation.rating AS pred_rating \\\n",
    "                               FROM ALS_recommendations_new_user \\\n",
    "                               LATERAL VIEW explode(recommendations) exploded_table \\\n",
    "                               AS recommendation\")\n",
    "\n",
    "recommendations_new_user_exploded.show() "
   ]
  },
  {
   "cell_type": "code",
   "execution_count": 0,
   "metadata": {
    "application/vnd.databricks.v1+cell": {
     "inputWidgets": {},
     "nuid": "9a0cd15b-137a-419b-bbbe-e0edc3863a9d",
     "showTitle": false,
     "title": ""
    }
   },
   "outputs": [
    {
     "data": {
      "text/html": [
       "<style scoped>\n",
       "  .ansiout {\n",
       "    display: block;\n",
       "    unicode-bidi: embed;\n",
       "    white-space: pre-wrap;\n",
       "    word-wrap: break-word;\n",
       "    word-break: break-all;\n",
       "    font-family: \"Source Code Pro\", \"Menlo\", monospace;;\n",
       "    font-size: 13px;\n",
       "    color: #555;\n",
       "    margin-left: 4px;\n",
       "    line-height: 19px;\n",
       "  }\n",
       "</style>\n",
       "<div class=\"ansiout\">Out[42]: </div>"
      ]
     },
     "metadata": {
      "application/vnd.databricks.v1+output": {
       "addedWidgets": {},
       "arguments": {},
       "data": "<div class=\"ansiout\">Out[42]: </div>",
       "datasetInfos": [],
       "metadata": {},
       "removedWidgets": [],
       "type": "html"
      }
     },
     "output_type": "display_data"
    },
    {
     "data": {
      "text/html": [
       "<div>\n",
       "<style scoped>\n",
       "    .dataframe tbody tr th:only-of-type {\n",
       "        vertical-align: middle;\n",
       "    }\n",
       "\n",
       "    .dataframe tbody tr th {\n",
       "        vertical-align: top;\n",
       "    }\n",
       "\n",
       "    .dataframe thead th {\n",
       "        text-align: right;\n",
       "    }\n",
       "</style>\n",
       "<table border=\"1\" class=\"dataframe\">\n",
       "  <thead>\n",
       "    <tr style=\"text-align: right;\">\n",
       "      <th></th>\n",
       "      <th>movieId</th>\n",
       "      <th>userId</th>\n",
       "      <th>pred_rating</th>\n",
       "      <th>title</th>\n",
       "      <th>genres</th>\n",
       "    </tr>\n",
       "  </thead>\n",
       "  <tbody>\n",
       "    <tr>\n",
       "      <th>0</th>\n",
       "      <td>67504</td>\n",
       "      <td>672</td>\n",
       "      <td>5.357431</td>\n",
       "      <td>Land of Silence and Darkness (Land des Schweig...</td>\n",
       "      <td>Documentary</td>\n",
       "    </tr>\n",
       "    <tr>\n",
       "      <th>1</th>\n",
       "      <td>83411</td>\n",
       "      <td>672</td>\n",
       "      <td>5.357431</td>\n",
       "      <td>Cops (1922)</td>\n",
       "      <td>Comedy</td>\n",
       "    </tr>\n",
       "    <tr>\n",
       "      <th>2</th>\n",
       "      <td>83318</td>\n",
       "      <td>672</td>\n",
       "      <td>5.357431</td>\n",
       "      <td>Goat, The (1921)</td>\n",
       "      <td>Comedy</td>\n",
       "    </tr>\n",
       "    <tr>\n",
       "      <th>3</th>\n",
       "      <td>527</td>\n",
       "      <td>672</td>\n",
       "      <td>5.131235</td>\n",
       "      <td>Schindler's List (1993)</td>\n",
       "      <td>Drama|War</td>\n",
       "    </tr>\n",
       "    <tr>\n",
       "      <th>4</th>\n",
       "      <td>59684</td>\n",
       "      <td>672</td>\n",
       "      <td>5.086157</td>\n",
       "      <td>Lake of Fire (2006)</td>\n",
       "      <td>Documentary</td>\n",
       "    </tr>\n",
       "    <tr>\n",
       "      <th>5</th>\n",
       "      <td>54328</td>\n",
       "      <td>672</td>\n",
       "      <td>5.074544</td>\n",
       "      <td>My Best Friend (Mon meilleur ami) (2006)</td>\n",
       "      <td>Comedy</td>\n",
       "    </tr>\n",
       "    <tr>\n",
       "      <th>6</th>\n",
       "      <td>31435</td>\n",
       "      <td>672</td>\n",
       "      <td>5.051767</td>\n",
       "      <td>Rory O'Shea Was Here (Inside I'm Dancing) (2004)</td>\n",
       "      <td>Drama</td>\n",
       "    </tr>\n",
       "    <tr>\n",
       "      <th>7</th>\n",
       "      <td>1148</td>\n",
       "      <td>672</td>\n",
       "      <td>4.985118</td>\n",
       "      <td>Wallace &amp; Gromit: The Wrong Trousers (1993)</td>\n",
       "      <td>Animation|Children|Comedy|Crime</td>\n",
       "    </tr>\n",
       "    <tr>\n",
       "      <th>8</th>\n",
       "      <td>4306</td>\n",
       "      <td>672</td>\n",
       "      <td>4.983896</td>\n",
       "      <td>Shrek (2001)</td>\n",
       "      <td>Adventure|Animation|Children|Comedy|Fantasy|Ro...</td>\n",
       "    </tr>\n",
       "    <tr>\n",
       "      <th>9</th>\n",
       "      <td>905</td>\n",
       "      <td>672</td>\n",
       "      <td>4.956560</td>\n",
       "      <td>It Happened One Night (1934)</td>\n",
       "      <td>Comedy|Romance</td>\n",
       "    </tr>\n",
       "  </tbody>\n",
       "</table>\n",
       "</div>"
      ]
     },
     "metadata": {
      "application/vnd.databricks.v1+output": {
       "addedWidgets": {},
       "arguments": {},
       "data": "<div>\n<style scoped>\n    .dataframe tbody tr th:only-of-type {\n        vertical-align: middle;\n    }\n\n    .dataframe tbody tr th {\n        vertical-align: top;\n    }\n\n    .dataframe thead th {\n        text-align: right;\n    }\n</style>\n<table border=\"1\" class=\"dataframe\">\n  <thead>\n    <tr style=\"text-align: right;\">\n      <th></th>\n      <th>movieId</th>\n      <th>userId</th>\n      <th>pred_rating</th>\n      <th>title</th>\n      <th>genres</th>\n    </tr>\n  </thead>\n  <tbody>\n    <tr>\n      <th>0</th>\n      <td>67504</td>\n      <td>672</td>\n      <td>5.357431</td>\n      <td>Land of Silence and Darkness (Land des Schweig...</td>\n      <td>Documentary</td>\n    </tr>\n    <tr>\n      <th>1</th>\n      <td>83411</td>\n      <td>672</td>\n      <td>5.357431</td>\n      <td>Cops (1922)</td>\n      <td>Comedy</td>\n    </tr>\n    <tr>\n      <th>2</th>\n      <td>83318</td>\n      <td>672</td>\n      <td>5.357431</td>\n      <td>Goat, The (1921)</td>\n      <td>Comedy</td>\n    </tr>\n    <tr>\n      <th>3</th>\n      <td>527</td>\n      <td>672</td>\n      <td>5.131235</td>\n      <td>Schindler's List (1993)</td>\n      <td>Drama|War</td>\n    </tr>\n    <tr>\n      <th>4</th>\n      <td>59684</td>\n      <td>672</td>\n      <td>5.086157</td>\n      <td>Lake of Fire (2006)</td>\n      <td>Documentary</td>\n    </tr>\n    <tr>\n      <th>5</th>\n      <td>54328</td>\n      <td>672</td>\n      <td>5.074544</td>\n      <td>My Best Friend (Mon meilleur ami) (2006)</td>\n      <td>Comedy</td>\n    </tr>\n    <tr>\n      <th>6</th>\n      <td>31435</td>\n      <td>672</td>\n      <td>5.051767</td>\n      <td>Rory O'Shea Was Here (Inside I'm Dancing) (2004)</td>\n      <td>Drama</td>\n    </tr>\n    <tr>\n      <th>7</th>\n      <td>1148</td>\n      <td>672</td>\n      <td>4.985118</td>\n      <td>Wallace &amp; Gromit: The Wrong Trousers (1993)</td>\n      <td>Animation|Children|Comedy|Crime</td>\n    </tr>\n    <tr>\n      <th>8</th>\n      <td>4306</td>\n      <td>672</td>\n      <td>4.983896</td>\n      <td>Shrek (2001)</td>\n      <td>Adventure|Animation|Children|Comedy|Fantasy|Ro...</td>\n    </tr>\n    <tr>\n      <th>9</th>\n      <td>905</td>\n      <td>672</td>\n      <td>4.956560</td>\n      <td>It Happened One Night (1934)</td>\n      <td>Comedy|Romance</td>\n    </tr>\n  </tbody>\n</table>\n</div>",
       "datasetInfos": [],
       "metadata": {},
       "removedWidgets": [],
       "textData": null,
       "type": "htmlSandbox"
      }
     },
     "output_type": "display_data"
    }
   ],
   "source": [
    "# Add movie info (movie title and genres) to top 10 movie recommendations data (with movieIds and ratings)\n",
    "\n",
    "recommendations_new_user_exploded.join(movies, [\"movieId\"], \"left\").toPandas()"
   ]
  },
  {
   "cell_type": "code",
   "execution_count": 0,
   "metadata": {
    "application/vnd.databricks.v1+cell": {
     "inputWidgets": {},
     "nuid": "cb0232e1-c4d6-4419-8eb9-c0cd53a9f763",
     "showTitle": false,
     "title": ""
    }
   },
   "outputs": [
    {
     "data": {
      "text/html": [
       "<style scoped>\n",
       "  .ansiout {\n",
       "    display: block;\n",
       "    unicode-bidi: embed;\n",
       "    white-space: pre-wrap;\n",
       "    word-wrap: break-word;\n",
       "    word-break: break-all;\n",
       "    font-family: \"Source Code Pro\", \"Menlo\", monospace;;\n",
       "    font-size: 13px;\n",
       "    color: #555;\n",
       "    margin-left: 4px;\n",
       "    line-height: 19px;\n",
       "  }\n",
       "</style>\n",
       "<div class=\"ansiout\"></div>"
      ]
     },
     "metadata": {
      "application/vnd.databricks.v1+output": {
       "addedWidgets": {},
       "arguments": {},
       "data": "<div class=\"ansiout\"></div>",
       "datasetInfos": [],
       "metadata": {},
       "removedWidgets": [],
       "type": "html"
      }
     },
     "output_type": "display_data"
    }
   ],
   "source": [
    "Top10_movies = recommendations_new_user_exploded.join(movies, [\"movieId\"], \"left\").select(\"title\").toPandas()"
   ]
  },
  {
   "cell_type": "code",
   "execution_count": 0,
   "metadata": {
    "application/vnd.databricks.v1+cell": {
     "inputWidgets": {},
     "nuid": "8bacaf98-5aa4-46f4-80cb-a6eb659fa3f5",
     "showTitle": false,
     "title": ""
    }
   },
   "outputs": [
    {
     "data": {
      "text/html": [
       "<style scoped>\n",
       "  .ansiout {\n",
       "    display: block;\n",
       "    unicode-bidi: embed;\n",
       "    white-space: pre-wrap;\n",
       "    word-wrap: break-word;\n",
       "    word-break: break-all;\n",
       "    font-family: \"Source Code Pro\", \"Menlo\", monospace;;\n",
       "    font-size: 13px;\n",
       "    color: #555;\n",
       "    margin-left: 4px;\n",
       "    line-height: 19px;\n",
       "  }\n",
       "</style>\n",
       "<div class=\"ansiout\">Out[44]: </div>"
      ]
     },
     "metadata": {
      "application/vnd.databricks.v1+output": {
       "addedWidgets": {},
       "arguments": {},
       "data": "<div class=\"ansiout\">Out[44]: </div>",
       "datasetInfos": [],
       "metadata": {},
       "removedWidgets": [],
       "type": "html"
      }
     },
     "output_type": "display_data"
    },
    {
     "data": {
      "text/html": [
       "<div>\n",
       "<style scoped>\n",
       "    .dataframe tbody tr th:only-of-type {\n",
       "        vertical-align: middle;\n",
       "    }\n",
       "\n",
       "    .dataframe tbody tr th {\n",
       "        vertical-align: top;\n",
       "    }\n",
       "\n",
       "    .dataframe thead th {\n",
       "        text-align: right;\n",
       "    }\n",
       "</style>\n",
       "<table border=\"1\" class=\"dataframe\">\n",
       "  <thead>\n",
       "    <tr style=\"text-align: right;\">\n",
       "      <th></th>\n",
       "      <th>title</th>\n",
       "    </tr>\n",
       "  </thead>\n",
       "  <tbody>\n",
       "    <tr>\n",
       "      <th>0</th>\n",
       "      <td>Land of Silence and Darkness (Land des Schweig...</td>\n",
       "    </tr>\n",
       "    <tr>\n",
       "      <th>1</th>\n",
       "      <td>Cops (1922)</td>\n",
       "    </tr>\n",
       "    <tr>\n",
       "      <th>2</th>\n",
       "      <td>Goat, The (1921)</td>\n",
       "    </tr>\n",
       "    <tr>\n",
       "      <th>3</th>\n",
       "      <td>Schindler's List (1993)</td>\n",
       "    </tr>\n",
       "    <tr>\n",
       "      <th>4</th>\n",
       "      <td>Lake of Fire (2006)</td>\n",
       "    </tr>\n",
       "    <tr>\n",
       "      <th>5</th>\n",
       "      <td>My Best Friend (Mon meilleur ami) (2006)</td>\n",
       "    </tr>\n",
       "    <tr>\n",
       "      <th>6</th>\n",
       "      <td>Rory O'Shea Was Here (Inside I'm Dancing) (2004)</td>\n",
       "    </tr>\n",
       "    <tr>\n",
       "      <th>7</th>\n",
       "      <td>Wallace &amp; Gromit: The Wrong Trousers (1993)</td>\n",
       "    </tr>\n",
       "    <tr>\n",
       "      <th>8</th>\n",
       "      <td>Shrek (2001)</td>\n",
       "    </tr>\n",
       "    <tr>\n",
       "      <th>9</th>\n",
       "      <td>It Happened One Night (1934)</td>\n",
       "    </tr>\n",
       "  </tbody>\n",
       "</table>\n",
       "</div>"
      ]
     },
     "metadata": {
      "application/vnd.databricks.v1+output": {
       "addedWidgets": {},
       "arguments": {},
       "data": "<div>\n<style scoped>\n    .dataframe tbody tr th:only-of-type {\n        vertical-align: middle;\n    }\n\n    .dataframe tbody tr th {\n        vertical-align: top;\n    }\n\n    .dataframe thead th {\n        text-align: right;\n    }\n</style>\n<table border=\"1\" class=\"dataframe\">\n  <thead>\n    <tr style=\"text-align: right;\">\n      <th></th>\n      <th>title</th>\n    </tr>\n  </thead>\n  <tbody>\n    <tr>\n      <th>0</th>\n      <td>Land of Silence and Darkness (Land des Schweig...</td>\n    </tr>\n    <tr>\n      <th>1</th>\n      <td>Cops (1922)</td>\n    </tr>\n    <tr>\n      <th>2</th>\n      <td>Goat, The (1921)</td>\n    </tr>\n    <tr>\n      <th>3</th>\n      <td>Schindler's List (1993)</td>\n    </tr>\n    <tr>\n      <th>4</th>\n      <td>Lake of Fire (2006)</td>\n    </tr>\n    <tr>\n      <th>5</th>\n      <td>My Best Friend (Mon meilleur ami) (2006)</td>\n    </tr>\n    <tr>\n      <th>6</th>\n      <td>Rory O'Shea Was Here (Inside I'm Dancing) (2004)</td>\n    </tr>\n    <tr>\n      <th>7</th>\n      <td>Wallace &amp; Gromit: The Wrong Trousers (1993)</td>\n    </tr>\n    <tr>\n      <th>8</th>\n      <td>Shrek (2001)</td>\n    </tr>\n    <tr>\n      <th>9</th>\n      <td>It Happened One Night (1934)</td>\n    </tr>\n  </tbody>\n</table>\n</div>",
       "datasetInfos": [],
       "metadata": {},
       "removedWidgets": [],
       "textData": null,
       "type": "htmlSandbox"
      }
     },
     "output_type": "display_data"
    }
   ],
   "source": [
    "Top10_movies"
   ]
  },
  {
   "cell_type": "code",
   "execution_count": 0,
   "metadata": {
    "application/vnd.databricks.v1+cell": {
     "inputWidgets": {},
     "nuid": "e88fec80-d555-4266-b25b-930b0160eab6",
     "showTitle": false,
     "title": ""
    }
   },
   "outputs": [],
   "source": []
  }
 ],
 "metadata": {
  "application/vnd.databricks.v1+notebook": {
   "dashboards": [],
   "language": "python",
   "notebookMetadata": {
    "pythonIndentUnit": 2
   },
   "notebookName": "pySpark_ALS_movie-recommendation-model_databricks_v2",
   "notebookOrigID": 2070104864340380,
   "widgets": {}
  },
  "kernelspec": {
   "display_name": "Python 3",
   "language": "python",
   "name": "python3"
  },
  "language_info": {
   "codemirror_mode": {
    "name": "ipython",
    "version": 3
   },
   "file_extension": ".py",
   "mimetype": "text/x-python",
   "name": "python",
   "nbconvert_exporter": "python",
   "pygments_lexer": "ipython3",
   "version": "3.6.8"
  }
 },
 "nbformat": 4,
 "nbformat_minor": 1
}
